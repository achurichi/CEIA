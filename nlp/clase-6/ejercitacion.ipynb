{
  "cells": [
    {
      "cell_type": "markdown",
      "metadata": {},
      "source": [
        "<img src=\"../img/banner.png\" width=\"500\" align=\"center\">\n",
        "\n",
        "# Procesamiento de lenguaje natural\n",
        "## LSTM Bot QA\n",
        "\n",
        "Preparado por: Alan Churichi\n",
        "\n",
        "Se utilizará un dataset de conversaciones en ingles con el objetivo de entrenar un bot con el que podamos interactuar mediante preguntas y respuestas.\n",
        "\n",
        "El bot conversacional se entrenará haciendo uso de una arquitectura LSTM encoder-decoder.\n",
        "\n",
        "Finalmente se evaluará el rendimiento del bot haciendole preguntas y teniendo una breve conversación para ver la coherencia de sus respuestas.\n",
        "\n",
        "[Link al dataset](http://convai.io/data/)"
      ]
    },
    {
      "cell_type": "code",
      "execution_count": 1,
      "metadata": {
        "id": "cq3YXak9sGHd"
      },
      "outputs": [],
      "source": [
        "%load_ext lab_black\n",
        "\n",
        "sys.path.insert(1, \"/tf/notebooks/CEIA/nlp/clase-6\")\n",
        "\n",
        "from embeddings import GloveEmbeddings\n",
        "from keras.layers import Input, LSTM, Dense\n",
        "from keras.layers.core import Activation, Dense\n",
        "from keras.layers.embeddings import Embedding\n",
        "from keras.models import Model\n",
        "from keras.preprocessing.sequence import pad_sequences\n",
        "from keras.preprocessing.text import Tokenizer\n",
        "from keras.utils.np_utils import to_categorical\n",
        "from keras.utils.vis_utils import plot_model\n",
        "import gdown\n",
        "import json\n",
        "import keras\n",
        "import matplotlib.pyplot as plt\n",
        "import numpy as np\n",
        "import os\n",
        "import pandas as pd\n",
        "import re\n",
        "import seaborn as sns\n",
        "import sys\n",
        "\n",
        "base_path = \"/tf/notebooks/CEIA/nlp/clase-6\""
      ]
    },
    {
      "cell_type": "markdown",
      "metadata": {},
      "source": [
        "### 1 - Datos\n",
        "\n",
        "Se descarga la carpeta del dataset"
      ]
    },
    {
      "cell_type": "code",
      "execution_count": 2,
      "metadata": {},
      "outputs": [
        {
          "name": "stdout",
          "output_type": "stream",
          "text": [
            "El dataset ya se encuentra descargado\n"
          ]
        }
      ],
      "source": [
        "dataset_path = os.path.join(base_path, \"data/data_volunteers.json\")\n",
        "\n",
        "if os.access(dataset_path, os.F_OK) is False:\n",
        "    url = \"https://drive.google.com/uc?id=1QPYxMTBSGNmbyGhknznuO3YWLBOJnhUQ&export=download\"\n",
        "    gdown.download(url, dataset_path, quiet=False)\n",
        "else:\n",
        "    print(\"El dataset ya se encuentra descargado\")"
      ]
    },
    {
      "cell_type": "markdown",
      "metadata": {},
      "source": [
        "Se carga el dataset y mostramos un ejemplo"
      ]
    },
    {
      "cell_type": "code",
      "execution_count": 3,
      "metadata": {
        "id": "ue5qd54S-eew"
      },
      "outputs": [
        {
          "data": {
            "text/plain": [
              "{'dialog': [{'id': 0,\n",
              "   'sender': 'participant1',\n",
              "   'text': 'hi there',\n",
              "   'evaluation_score': None,\n",
              "   'sender_class': 'Human'}],\n",
              " 'start_time': '2018-10-29 03:32:08.296000',\n",
              " 'end_time': '2018-10-29 03:32:08.296000',\n",
              " 'bot_profile': ['i like to talk but people have a hard time understanding.',\n",
              "  'i like to look at blocks and sing about letters.',\n",
              "  'i like to eat chocolate candy.',\n",
              "  'when i grow up i want to be a dog.'],\n",
              " 'user_profile': ['i am a clean eater.',\n",
              "  'my parents were both very athletic.',\n",
              "  'i love running and preparing for marathons.',\n",
              "  'i am a cancer survivor.'],\n",
              " 'eval_score': None,\n",
              " 'profile_match': '',\n",
              " 'participant1_id': {'class': 'User', 'user_id': 'User 00172'},\n",
              " 'participant2_id': {'class': 'Bot', 'user_id': 'Bot 004'}}"
            ]
          },
          "execution_count": 3,
          "metadata": {},
          "output_type": "execute_result"
        }
      ],
      "source": [
        "with open(dataset_path) as f:\n",
        "    data = json.load(f)\n",
        "\n",
        "data[0]"
      ]
    },
    {
      "cell_type": "markdown",
      "metadata": {},
      "source": [
        "Se procesa el dataset para obtener los datos en el formato necesario para entrenar nuestro modelo."
      ]
    },
    {
      "cell_type": "code",
      "execution_count": 4,
      "metadata": {
        "id": "jHBRAXPl-3dz"
      },
      "outputs": [
        {
          "name": "stdout",
          "output_type": "stream",
          "text": [
            "Cantidad de rows utilizadas: 6033\n"
          ]
        },
        {
          "data": {
            "text/plain": [
              "('hi how are you ', 'not bad and you  <eos>', '<sos> not bad and you ')"
            ]
          },
          "execution_count": 4,
          "metadata": {},
          "output_type": "execute_result"
        }
      ],
      "source": [
        "chat_in = []\n",
        "chat_out = []\n",
        "\n",
        "input_sentences = []\n",
        "output_sentences = []\n",
        "output_sentences_inputs = []\n",
        "max_len = 30\n",
        "\n",
        "\n",
        "def clean_text(txt):\n",
        "    txt = txt.lower()\n",
        "    txt.replace(\"'d\", \" had\")\n",
        "    txt.replace(\"'s\", \" is\")\n",
        "    txt.replace(\"'m\", \" am\")\n",
        "    txt.replace(\"don't\", \"do not\")\n",
        "    txt = re.sub(r\"\\W+\", \" \", txt)\n",
        "\n",
        "    return txt\n",
        "\n",
        "\n",
        "for line in data:\n",
        "    for i in range(len(line[\"dialog\"]) - 1):\n",
        "        chat_in = clean_text(line[\"dialog\"][i][\"text\"])\n",
        "        chat_out = clean_text(line[\"dialog\"][i + 1][\"text\"])\n",
        "\n",
        "        if len(chat_in) >= max_len or len(chat_out) >= max_len:\n",
        "            continue\n",
        "\n",
        "        input_sentence, output = chat_in, chat_out\n",
        "\n",
        "        # output sentence (decoder_output) tiene <eos>\n",
        "        output_sentence = output + \" <eos>\"\n",
        "        # output sentence input (decoder_input) tiene <sos>\n",
        "        output_sentence_input = \"<sos> \" + output\n",
        "\n",
        "        input_sentences.append(input_sentence)\n",
        "        output_sentences.append(output_sentence)\n",
        "        output_sentences_inputs.append(output_sentence_input)\n",
        "\n",
        "print(\"Cantidad de rows utilizadas:\", len(input_sentences))\n",
        "input_sentences[1], output_sentences[1], output_sentences_inputs[1]"
      ]
    },
    {
      "cell_type": "markdown",
      "metadata": {
        "id": "8P-ynUNP5xp6"
      },
      "source": [
        "### 2 - Preprocesamiento\n",
        "\n",
        "Se realiza el preprocesamiento necesario para obtener:\n",
        "\n",
        "- word2idx_inputs, max_input_len\n",
        "- word2idx_outputs, max_out_len, num_words_output\n",
        "- encoder_input_sequences, decoder_output_sequences, decoder_targets"
      ]
    },
    {
      "cell_type": "code",
      "execution_count": 5,
      "metadata": {},
      "outputs": [],
      "source": [
        "# Tamaño máximo del vocabulario\n",
        "MAX_VOCAB_SIZE = 8000"
      ]
    },
    {
      "cell_type": "markdown",
      "metadata": {},
      "source": [
        "Se utiliza `Tokenizer` de Keras para generar los tokens de las palabras en el dataset."
      ]
    },
    {
      "cell_type": "code",
      "execution_count": 6,
      "metadata": {},
      "outputs": [
        {
          "name": "stdout",
          "output_type": "stream",
          "text": [
            "Palabras en el vocabulario: 2157\n",
            "Sentencia de entrada más larga: 9\n",
            "Sentencia de salida más larga: 10\n"
          ]
        }
      ],
      "source": [
        "tokenizer = Tokenizer(\n",
        "    num_words=MAX_VOCAB_SIZE, filters='!\"#$%&()*+,-./:;=?@[\\\\]^_`{|}~\\t\\n'\n",
        ")  # Se omiten los simbolos \"<\" y \">\" para que no afectar los delimintadores \"<sos>\" y \"<eos>\"\n",
        "tokenizer.fit_on_texts([\"<sos>\", \"<eos>\"] + input_sentences + output_sentences)\n",
        "input_integer_seq = tokenizer.texts_to_sequences(input_sentences)\n",
        "output_integer_seq = tokenizer.texts_to_sequences(output_sentences)\n",
        "output_input_integer_seq = tokenizer.texts_to_sequences(output_sentences_inputs)\n",
        "\n",
        "word2idx = tokenizer.word_index\n",
        "max_input_len = max(len(sen) for sen in input_integer_seq)\n",
        "max_out_len = max(len(sen) for sen in output_integer_seq)\n",
        "num_words_output = min(\n",
        "    len(word2idx) + 1, MAX_VOCAB_SIZE\n",
        ")  # Se suma 1 por el primer <sos>\n",
        "\n",
        "print(\"Palabras en el vocabulario:\", len(word2idx))\n",
        "print(\"Sentencia de entrada más larga:\", max_input_len)\n",
        "print(\"Sentencia de salida más larga:\", max_out_len)"
      ]
    },
    {
      "cell_type": "code",
      "execution_count": 7,
      "metadata": {},
      "outputs": [
        {
          "name": "stdout",
          "output_type": "stream",
          "text": [
            "Cantidad de rows del dataset: 6033\n",
            "encoder_input_sequences shape: (6033, 9)\n",
            "decoder_input_sequences shape: (6033, 10)\n"
          ]
        }
      ],
      "source": [
        "encoder_input_sequences = pad_sequences(input_integer_seq, maxlen=max_input_len)\n",
        "decoder_input_sequences = pad_sequences(\n",
        "    output_input_integer_seq, maxlen=max_out_len, padding=\"post\"\n",
        ")\n",
        "\n",
        "print(\"Cantidad de rows del dataset:\", len(input_integer_seq))\n",
        "print(\"encoder_input_sequences shape:\", encoder_input_sequences.shape)\n",
        "print(\"decoder_input_sequences shape:\", decoder_input_sequences.shape)"
      ]
    },
    {
      "cell_type": "code",
      "execution_count": 8,
      "metadata": {},
      "outputs": [
        {
          "data": {
            "text/plain": [
              "(6033, 10, 2158)"
            ]
          },
          "execution_count": 8,
          "metadata": {},
          "output_type": "execute_result"
        }
      ],
      "source": [
        "decoder_output_sequences = pad_sequences(\n",
        "    output_integer_seq, maxlen=max_out_len, padding=\"post\"\n",
        ")\n",
        "decoder_targets = to_categorical(decoder_output_sequences, num_classes=num_words_output)\n",
        "decoder_targets.shape"
      ]
    },
    {
      "cell_type": "markdown",
      "metadata": {
        "id": "_CJIsLBbj6rg"
      },
      "source": [
        "### 3 - Preparar los embeddings\n",
        "Utilizar los embeddings de Glove o FastText para transformar los tokens de entrada en vectores.\n",
        "\n",
        "En este caso utilizaremos Glove."
      ]
    },
    {
      "cell_type": "code",
      "execution_count": 9,
      "metadata": {},
      "outputs": [
        {
          "name": "stdout",
          "output_type": "stream",
          "text": [
            "Los embeddings gloveembedding.pkl ya están descargados\n"
          ]
        }
      ],
      "source": [
        "embeddings_path = os.path.join(base_path, \"data/gloveembedding.pkl\")\n",
        "\n",
        "if os.access(embeddings_path, os.F_OK) is False:\n",
        "    url = \"https://drive.google.com/uc?id=1wlDBOrxPq2-3htQ6ryVo7K1XnzLcfh4r&export=download\"\n",
        "    gdown.download(url, embeddings_path, quiet=False)\n",
        "else:\n",
        "    print(\"Los embeddings gloveembedding.pkl ya están descargados\")"
      ]
    },
    {
      "cell_type": "markdown",
      "metadata": {},
      "source": [
        "Utilizamos las funciones auxiliares definidas en `embeddings.py` para cargar los embeddings."
      ]
    },
    {
      "cell_type": "code",
      "execution_count": 10,
      "metadata": {},
      "outputs": [],
      "source": [
        "word_to_vec_model_txt_path = os.path.join(base_path, \"data/glove.twitter.27B.50d.txt\")\n",
        "\n",
        "model_embeddings = GloveEmbeddings(\n",
        "    word_to_vec_model_txt_path=word_to_vec_model_txt_path,\n",
        "    pkl_path=embeddings_path,\n",
        ")"
      ]
    },
    {
      "cell_type": "markdown",
      "metadata": {},
      "source": [
        "Se crea la matriz de embedding para las secuencias en ingles."
      ]
    },
    {
      "cell_type": "code",
      "execution_count": 11,
      "metadata": {},
      "outputs": [
        {
          "name": "stdout",
          "output_type": "stream",
          "text": [
            "preparing embedding matrix...\n",
            "number of null word embeddings: 44\n"
          ]
        }
      ],
      "source": [
        "print(\"preparing embedding matrix...\")\n",
        "embed_dim = model_embeddings.n_features\n",
        "words_not_found = []\n",
        "\n",
        "nb_words = min(MAX_VOCAB_SIZE, len(word2idx))  # vocab_size\n",
        "embedding_matrix = np.zeros((nb_words, embed_dim))\n",
        "for word, i in word2idx.items():\n",
        "    if i >= nb_words:\n",
        "        continue\n",
        "    embedding_vector = model_embeddings.get_words_embeddings(word)[0]\n",
        "    if (embedding_vector is not None) and len(embedding_vector) > 0:\n",
        "\n",
        "        embedding_matrix[i] = embedding_vector\n",
        "    else:\n",
        "        # words not found in embedding index will be all-zeros.\n",
        "        words_not_found.append(word)\n",
        "\n",
        "print(\"number of null word embeddings:\", np.sum(np.sum(embedding_matrix, axis=1) == 0))"
      ]
    },
    {
      "cell_type": "markdown",
      "metadata": {},
      "source": [
        "Dimensión de los embeddings de la secuencia en ingles"
      ]
    },
    {
      "cell_type": "code",
      "execution_count": 12,
      "metadata": {},
      "outputs": [
        {
          "data": {
            "text/plain": [
              "(2157, 50)"
            ]
          },
          "execution_count": 12,
          "metadata": {},
          "output_type": "execute_result"
        }
      ],
      "source": [
        "embedding_matrix.shape"
      ]
    },
    {
      "cell_type": "markdown",
      "metadata": {
        "id": "3vKbhjtIwPgM"
      },
      "source": [
        "### 4 - Entrenar el modelo\n",
        "Entrenar un modelo basado en el esquema encoder-decoder utilizando los datos generados en los puntos anteriores. Utilce como referencias los ejemplos vistos en clase."
      ]
    },
    {
      "cell_type": "code",
      "execution_count": 13,
      "metadata": {},
      "outputs": [
        {
          "name": "stderr",
          "output_type": "stream",
          "text": [
            "2022-08-18 00:53:44.119511: I tensorflow/stream_executor/cuda/cuda_gpu_executor.cc:936] successful NUMA node read from SysFS had negative value (-1), but there must be at least one NUMA node, so returning NUMA node zero\n",
            "2022-08-18 00:53:44.124073: I tensorflow/stream_executor/cuda/cuda_gpu_executor.cc:936] successful NUMA node read from SysFS had negative value (-1), but there must be at least one NUMA node, so returning NUMA node zero\n",
            "2022-08-18 00:53:44.124234: I tensorflow/stream_executor/cuda/cuda_gpu_executor.cc:936] successful NUMA node read from SysFS had negative value (-1), but there must be at least one NUMA node, so returning NUMA node zero\n",
            "2022-08-18 00:53:44.124808: I tensorflow/core/platform/cpu_feature_guard.cc:151] This TensorFlow binary is optimized with oneAPI Deep Neural Network Library (oneDNN) to use the following CPU instructions in performance-critical operations:  AVX2 FMA\n",
            "To enable them in other operations, rebuild TensorFlow with the appropriate compiler flags.\n",
            "2022-08-18 00:53:44.125128: I tensorflow/stream_executor/cuda/cuda_gpu_executor.cc:936] successful NUMA node read from SysFS had negative value (-1), but there must be at least one NUMA node, so returning NUMA node zero\n",
            "2022-08-18 00:53:44.125282: I tensorflow/stream_executor/cuda/cuda_gpu_executor.cc:936] successful NUMA node read from SysFS had negative value (-1), but there must be at least one NUMA node, so returning NUMA node zero\n",
            "2022-08-18 00:53:44.125414: I tensorflow/stream_executor/cuda/cuda_gpu_executor.cc:936] successful NUMA node read from SysFS had negative value (-1), but there must be at least one NUMA node, so returning NUMA node zero\n",
            "2022-08-18 00:53:44.557023: I tensorflow/stream_executor/cuda/cuda_gpu_executor.cc:936] successful NUMA node read from SysFS had negative value (-1), but there must be at least one NUMA node, so returning NUMA node zero\n",
            "2022-08-18 00:53:44.557216: I tensorflow/stream_executor/cuda/cuda_gpu_executor.cc:936] successful NUMA node read from SysFS had negative value (-1), but there must be at least one NUMA node, so returning NUMA node zero\n",
            "2022-08-18 00:53:44.557363: I tensorflow/stream_executor/cuda/cuda_gpu_executor.cc:936] successful NUMA node read from SysFS had negative value (-1), but there must be at least one NUMA node, so returning NUMA node zero\n",
            "2022-08-18 00:53:44.557481: I tensorflow/core/common_runtime/gpu/gpu_device.cc:1525] Created device /job:localhost/replica:0/task:0/device:GPU:0 with 9469 MB memory:  -> device: 0, name: NVIDIA GeForce GTX 1080 Ti, pci bus id: 0000:01:00.0, compute capability: 6.1\n"
          ]
        },
        {
          "name": "stdout",
          "output_type": "stream",
          "text": [
            "Model: \"model\"\n",
            "__________________________________________________________________________________________________\n",
            " Layer (type)                   Output Shape         Param #     Connected to                     \n",
            "==================================================================================================\n",
            " input_1 (InputLayer)           [(None, 9)]          0           []                               \n",
            "                                                                                                  \n",
            " input_2 (InputLayer)           [(None, 10)]         0           []                               \n",
            "                                                                                                  \n",
            " embedding (Embedding)          (None, 9, 50)        107850      ['input_1[0][0]']                \n",
            "                                                                                                  \n",
            " embedding_1 (Embedding)        (None, 10, 256)      552448      ['input_2[0][0]']                \n",
            "                                                                                                  \n",
            " lstm (LSTM)                    [(None, 256),        314368      ['embedding[0][0]']              \n",
            "                                 (None, 256),                                                     \n",
            "                                 (None, 256)]                                                     \n",
            "                                                                                                  \n",
            " lstm_1 (LSTM)                  [(None, 10, 256),    525312      ['embedding_1[0][0]',            \n",
            "                                 (None, 256),                     'lstm[0][1]',                   \n",
            "                                 (None, 256)]                     'lstm[0][2]']                   \n",
            "                                                                                                  \n",
            " dense (Dense)                  (None, 10, 2158)     554606      ['lstm_1[0][0]']                 \n",
            "                                                                                                  \n",
            "==================================================================================================\n",
            "Total params: 2,054,584\n",
            "Trainable params: 1,946,734\n",
            "Non-trainable params: 107,850\n",
            "__________________________________________________________________________________________________\n"
          ]
        }
      ],
      "source": [
        "n_units = 256\n",
        "\n",
        "encoder_inputs = Input(shape=(max_input_len))\n",
        "\n",
        "encoder_embedding_layer = Embedding(\n",
        "    input_dim=nb_words,  # definido en el Tokenizador\n",
        "    output_dim=embed_dim,  # dimensión de los embeddings utilizados\n",
        "    input_length=max_input_len,  # máxima sentencia de entrada\n",
        "    weights=[embedding_matrix],  # matrix de embeddings\n",
        "    trainable=False,\n",
        ")\n",
        "\n",
        "encoder_inputs_x = encoder_embedding_layer(encoder_inputs)\n",
        "\n",
        "encoder = LSTM(n_units, return_state=True)\n",
        "encoder_outputs, state_h, state_c = encoder(encoder_inputs_x)\n",
        "encoder_states = [state_h, state_c]\n",
        "\n",
        "# define training decoder\n",
        "decoder_inputs = Input(shape=(max_out_len))\n",
        "decoder_embedding_layer = Embedding(\n",
        "    input_dim=num_words_output, output_dim=n_units, input_length=max_out_len\n",
        ")\n",
        "decoder_inputs_x = decoder_embedding_layer(decoder_inputs)\n",
        "\n",
        "decoder_lstm = LSTM(n_units, return_sequences=True, return_state=True)\n",
        "decoder_outputs, _, _ = decoder_lstm(decoder_inputs_x, initial_state=encoder_states)\n",
        "\n",
        "# Dense\n",
        "decoder_dense = Dense(num_words_output, activation=\"softmax\")\n",
        "decoder_outputs = decoder_dense(decoder_outputs)\n",
        "model = Model([encoder_inputs, decoder_inputs], decoder_outputs)\n",
        "\n",
        "model.compile(loss=\"categorical_crossentropy\", optimizer=\"Adam\", metrics=[\"accuracy\"])\n",
        "model.summary()"
      ]
    },
    {
      "cell_type": "markdown",
      "metadata": {},
      "source": [
        "Modelo completo encoder-decoder"
      ]
    },
    {
      "cell_type": "code",
      "execution_count": 14,
      "metadata": {},
      "outputs": [
        {
          "data": {
            "image/png": "[encoded data removed]",
            "text/plain": [
              "<IPython.core.display.Image object>"
            ]
          },
          "execution_count": 14,
          "metadata": {},
          "output_type": "execute_result"
        }
      ],
      "source": [
        "plot_model(model, to_file=\"model_plot.png\", show_shapes=True, show_layer_names=True)"
      ]
    },
    {
      "cell_type": "markdown",
      "metadata": {},
      "source": [
        "Modelo encoder"
      ]
    },
    {
      "cell_type": "code",
      "execution_count": 15,
      "metadata": {},
      "outputs": [
        {
          "data": {
            "image/png": "[encoded data removed]",
            "text/plain": [
              "<IPython.core.display.Image object>"
            ]
          },
          "execution_count": 15,
          "metadata": {},
          "output_type": "execute_result"
        }
      ],
      "source": [
        "encoder_model = Model(encoder_inputs, encoder_states)\n",
        "\n",
        "\n",
        "plot_model(\n",
        "    encoder_model, to_file=\"encoder_plot.png\", show_shapes=True, show_layer_names=True\n",
        ")"
      ]
    },
    {
      "cell_type": "markdown",
      "metadata": {},
      "source": [
        "Modelo decoder para realizar inferencias"
      ]
    },
    {
      "cell_type": "code",
      "execution_count": 16,
      "metadata": {},
      "outputs": [
        {
          "data": {
            "image/png": "[encoded data removed]",
            "text/plain": [
              "<IPython.core.display.Image object>"
            ]
          },
          "execution_count": 16,
          "metadata": {},
          "output_type": "execute_result"
        }
      ],
      "source": [
        "decoder_state_input_h = Input(shape=(n_units,))\n",
        "decoder_state_input_c = Input(shape=(n_units,))\n",
        "decoder_states_inputs = [decoder_state_input_h, decoder_state_input_c]\n",
        "\n",
        "# En cada predicción habrá una sola palabra de entrada al decoder,\n",
        "# que es la realimentación de la palabra anterior\n",
        "# por lo que hay que modificar el input shape de la layer de Embedding\n",
        "decoder_inputs_single = Input(shape=(1,))\n",
        "decoder_inputs_single_x = decoder_embedding_layer(decoder_inputs_single)\n",
        "\n",
        "decoder_outputs, state_h, state_c = decoder_lstm(\n",
        "    decoder_inputs_single_x, initial_state=decoder_states_inputs\n",
        ")\n",
        "decoder_states = [state_h, state_c]\n",
        "decoder_outputs = decoder_dense(decoder_outputs)\n",
        "decoder_model = Model(\n",
        "    [decoder_inputs_single] + decoder_states_inputs, [decoder_outputs] + decoder_states\n",
        ")\n",
        "\n",
        "plot_model(\n",
        "    decoder_model, to_file=\"decoder_plot.png\", show_shapes=True, show_layer_names=True\n",
        ")"
      ]
    },
    {
      "cell_type": "markdown",
      "metadata": {},
      "source": [
        "Se entrena el modelo encoder-decoder"
      ]
    },
    {
      "cell_type": "code",
      "execution_count": 17,
      "metadata": {},
      "outputs": [
        {
          "name": "stdout",
          "output_type": "stream",
          "text": [
            "Epoch 1/50\n"
          ]
        },
        {
          "name": "stderr",
          "output_type": "stream",
          "text": [
            "2022-08-18 00:53:49.179111: I tensorflow/stream_executor/cuda/cuda_dnn.cc:368] Loaded cuDNN version 8100\n"
          ]
        },
        {
          "name": "stdout",
          "output_type": "stream",
          "text": [
            "151/151 [==============================] - 5s 11ms/step - loss: 2.6749 - accuracy: 0.5680 - val_loss: 2.1254 - val_accuracy: 0.6458\n",
            "Epoch 2/50\n",
            "151/151 [==============================] - 1s 6ms/step - loss: 1.7929 - accuracy: 0.6868 - val_loss: 1.8534 - val_accuracy: 0.6959\n",
            "Epoch 3/50\n",
            "151/151 [==============================] - 1s 7ms/step - loss: 1.5344 - accuracy: 0.7263 - val_loss: 1.7552 - val_accuracy: 0.7127\n",
            "Epoch 4/50\n",
            "151/151 [==============================] - 1s 6ms/step - loss: 1.4058 - accuracy: 0.7412 - val_loss: 1.6961 - val_accuracy: 0.7191\n",
            "Epoch 5/50\n",
            "151/151 [==============================] - 1s 6ms/step - loss: 1.3224 - accuracy: 0.7479 - val_loss: 1.6705 - val_accuracy: 0.7215\n",
            "Epoch 6/50\n",
            "151/151 [==============================] - 1s 7ms/step - loss: 1.2572 - accuracy: 0.7540 - val_loss: 1.6398 - val_accuracy: 0.7272\n",
            "Epoch 7/50\n",
            "151/151 [==============================] - 1s 6ms/step - loss: 1.2043 - accuracy: 0.7608 - val_loss: 1.6294 - val_accuracy: 0.7290\n",
            "Epoch 8/50\n",
            "151/151 [==============================] - 1s 6ms/step - loss: 1.1586 - accuracy: 0.7659 - val_loss: 1.6256 - val_accuracy: 0.7311\n",
            "Epoch 9/50\n",
            "151/151 [==============================] - 1s 6ms/step - loss: 1.1201 - accuracy: 0.7685 - val_loss: 1.6193 - val_accuracy: 0.7336\n",
            "Epoch 10/50\n",
            "151/151 [==============================] - 1s 6ms/step - loss: 1.0847 - accuracy: 0.7712 - val_loss: 1.6148 - val_accuracy: 0.7333\n",
            "Epoch 11/50\n",
            "151/151 [==============================] - 1s 6ms/step - loss: 1.0510 - accuracy: 0.7750 - val_loss: 1.6127 - val_accuracy: 0.7341\n",
            "Epoch 12/50\n",
            "151/151 [==============================] - 1s 6ms/step - loss: 1.0200 - accuracy: 0.7801 - val_loss: 1.6135 - val_accuracy: 0.7341\n",
            "Epoch 13/50\n",
            "151/151 [==============================] - 1s 6ms/step - loss: 0.9909 - accuracy: 0.7834 - val_loss: 1.6271 - val_accuracy: 0.7341\n",
            "Epoch 14/50\n",
            "151/151 [==============================] - 1s 6ms/step - loss: 0.9637 - accuracy: 0.7871 - val_loss: 1.6303 - val_accuracy: 0.7382\n",
            "Epoch 15/50\n",
            "151/151 [==============================] - 1s 6ms/step - loss: 0.9373 - accuracy: 0.7917 - val_loss: 1.6285 - val_accuracy: 0.7397\n",
            "Epoch 16/50\n",
            "151/151 [==============================] - 1s 6ms/step - loss: 0.9142 - accuracy: 0.7949 - val_loss: 1.6389 - val_accuracy: 0.7378\n",
            "Epoch 17/50\n",
            "151/151 [==============================] - 1s 6ms/step - loss: 0.8900 - accuracy: 0.7991 - val_loss: 1.6398 - val_accuracy: 0.7358\n",
            "Epoch 18/50\n",
            "151/151 [==============================] - 1s 6ms/step - loss: 0.8695 - accuracy: 0.8022 - val_loss: 1.6554 - val_accuracy: 0.7380\n",
            "Epoch 19/50\n",
            "151/151 [==============================] - 1s 6ms/step - loss: 0.8498 - accuracy: 0.8058 - val_loss: 1.6573 - val_accuracy: 0.7398\n",
            "Epoch 20/50\n",
            "151/151 [==============================] - 1s 7ms/step - loss: 0.8293 - accuracy: 0.8096 - val_loss: 1.6673 - val_accuracy: 0.7375\n",
            "Epoch 21/50\n",
            "151/151 [==============================] - 1s 6ms/step - loss: 0.8119 - accuracy: 0.8129 - val_loss: 1.6719 - val_accuracy: 0.7385\n",
            "Epoch 22/50\n",
            "151/151 [==============================] - 1s 6ms/step - loss: 0.7941 - accuracy: 0.8148 - val_loss: 1.6790 - val_accuracy: 0.7414\n",
            "Epoch 23/50\n",
            "151/151 [==============================] - 1s 6ms/step - loss: 0.7776 - accuracy: 0.8179 - val_loss: 1.6891 - val_accuracy: 0.7374\n",
            "Epoch 24/50\n",
            "151/151 [==============================] - 1s 6ms/step - loss: 0.7618 - accuracy: 0.8200 - val_loss: 1.6971 - val_accuracy: 0.7382\n",
            "Epoch 25/50\n",
            "151/151 [==============================] - 1s 7ms/step - loss: 0.7465 - accuracy: 0.8231 - val_loss: 1.7122 - val_accuracy: 0.7360\n",
            "Epoch 26/50\n",
            "151/151 [==============================] - 1s 7ms/step - loss: 0.7327 - accuracy: 0.8255 - val_loss: 1.7147 - val_accuracy: 0.7360\n",
            "Epoch 27/50\n",
            "151/151 [==============================] - 1s 6ms/step - loss: 0.7182 - accuracy: 0.8271 - val_loss: 1.7317 - val_accuracy: 0.7380\n",
            "Epoch 28/50\n",
            "151/151 [==============================] - 1s 6ms/step - loss: 0.7059 - accuracy: 0.8299 - val_loss: 1.7374 - val_accuracy: 0.7355\n",
            "Epoch 29/50\n",
            "151/151 [==============================] - 1s 6ms/step - loss: 0.6931 - accuracy: 0.8320 - val_loss: 1.7509 - val_accuracy: 0.7360\n",
            "Epoch 30/50\n",
            "151/151 [==============================] - 1s 6ms/step - loss: 0.6804 - accuracy: 0.8353 - val_loss: 1.7581 - val_accuracy: 0.7357\n",
            "Epoch 31/50\n",
            "151/151 [==============================] - 1s 7ms/step - loss: 0.6687 - accuracy: 0.8363 - val_loss: 1.7786 - val_accuracy: 0.7371\n",
            "Epoch 32/50\n",
            "151/151 [==============================] - 1s 6ms/step - loss: 0.6559 - accuracy: 0.8394 - val_loss: 1.7867 - val_accuracy: 0.7333\n",
            "Epoch 33/50\n",
            "151/151 [==============================] - 1s 6ms/step - loss: 0.6459 - accuracy: 0.8411 - val_loss: 1.7842 - val_accuracy: 0.7336\n",
            "Epoch 34/50\n",
            "151/151 [==============================] - 1s 6ms/step - loss: 0.6347 - accuracy: 0.8437 - val_loss: 1.8048 - val_accuracy: 0.7365\n",
            "Epoch 35/50\n",
            "151/151 [==============================] - 1s 6ms/step - loss: 0.6235 - accuracy: 0.8448 - val_loss: 1.8104 - val_accuracy: 0.7336\n",
            "Epoch 36/50\n",
            "151/151 [==============================] - 1s 6ms/step - loss: 0.6118 - accuracy: 0.8484 - val_loss: 1.8246 - val_accuracy: 0.7333\n",
            "Epoch 37/50\n",
            "151/151 [==============================] - 1s 7ms/step - loss: 0.6015 - accuracy: 0.8508 - val_loss: 1.8416 - val_accuracy: 0.7321\n",
            "Epoch 38/50\n",
            "151/151 [==============================] - 1s 6ms/step - loss: 0.5927 - accuracy: 0.8516 - val_loss: 1.8450 - val_accuracy: 0.7355\n",
            "Epoch 39/50\n",
            "151/151 [==============================] - 1s 6ms/step - loss: 0.5810 - accuracy: 0.8538 - val_loss: 1.8505 - val_accuracy: 0.7313\n",
            "Epoch 40/50\n",
            "151/151 [==============================] - 1s 6ms/step - loss: 0.5710 - accuracy: 0.8559 - val_loss: 1.8721 - val_accuracy: 0.7336\n",
            "Epoch 41/50\n",
            "151/151 [==============================] - 1s 6ms/step - loss: 0.5612 - accuracy: 0.8574 - val_loss: 1.8821 - val_accuracy: 0.7317\n",
            "Epoch 42/50\n",
            "151/151 [==============================] - 1s 6ms/step - loss: 0.5530 - accuracy: 0.8594 - val_loss: 1.8898 - val_accuracy: 0.7332\n",
            "Epoch 43/50\n",
            "151/151 [==============================] - 1s 6ms/step - loss: 0.5434 - accuracy: 0.8606 - val_loss: 1.8995 - val_accuracy: 0.7331\n",
            "Epoch 44/50\n",
            "151/151 [==============================] - 1s 7ms/step - loss: 0.5341 - accuracy: 0.8625 - val_loss: 1.9121 - val_accuracy: 0.7329\n",
            "Epoch 45/50\n",
            "151/151 [==============================] - 1s 6ms/step - loss: 0.5249 - accuracy: 0.8648 - val_loss: 1.9202 - val_accuracy: 0.7274\n",
            "Epoch 46/50\n",
            "151/151 [==============================] - 1s 6ms/step - loss: 0.5172 - accuracy: 0.8656 - val_loss: 1.9366 - val_accuracy: 0.7311\n",
            "Epoch 47/50\n",
            "151/151 [==============================] - 1s 6ms/step - loss: 0.5078 - accuracy: 0.8686 - val_loss: 1.9547 - val_accuracy: 0.7314\n",
            "Epoch 48/50\n",
            "151/151 [==============================] - 1s 6ms/step - loss: 0.4985 - accuracy: 0.8697 - val_loss: 1.9655 - val_accuracy: 0.7312\n",
            "Epoch 49/50\n",
            "151/151 [==============================] - 1s 6ms/step - loss: 0.4907 - accuracy: 0.8722 - val_loss: 1.9768 - val_accuracy: 0.7309\n",
            "Epoch 50/50\n",
            "151/151 [==============================] - 1s 6ms/step - loss: 0.4829 - accuracy: 0.8738 - val_loss: 1.9926 - val_accuracy: 0.7314\n"
          ]
        }
      ],
      "source": [
        "hist = model.fit(\n",
        "    [encoder_input_sequences, decoder_input_sequences],\n",
        "    decoder_targets,\n",
        "    epochs=50,\n",
        "    validation_split=0.2,\n",
        ")"
      ]
    },
    {
      "cell_type": "code",
      "execution_count": 18,
      "metadata": {},
      "outputs": [
        {
          "data": {
            "image/png": "[encoded data removed]",
            "text/plain": [
              "<Figure size 864x432 with 1 Axes>"
            ]
          },
          "metadata": {
            "needs_background": "light"
          },
          "output_type": "display_data"
        }
      ],
      "source": [
        "epoch_count = range(1, len(hist.history[\"accuracy\"]) + 1)\n",
        "plt.figure(figsize=(12, 6))\n",
        "sns.lineplot(x=epoch_count, y=hist.history[\"accuracy\"], label=\"Train\")\n",
        "sns.lineplot(x=epoch_count, y=hist.history[\"val_accuracy\"], label=\"Validation\")\n",
        "plt.title(\"Accuracy por epoch\")\n",
        "plt.xlabel(\"Epoch\")\n",
        "plt.ylabel(\"Accuracy\")\n",
        "plt.show()"
      ]
    },
    {
      "cell_type": "markdown",
      "metadata": {
        "id": "Zbwn0ekDy_s2"
      },
      "source": [
        "### 5 - Inferencia\n",
        "Experimentar el funcionamiento de su modelo. Recuerde que debe realizar la inferencia de los modelos por separado de encoder y decoder.\n",
        "\n",
        "Definimos una funcion que dado un texto de entrada haga el preprocesamiento necesario y alimente el modelo para obtener una respuesta."
      ]
    },
    {
      "cell_type": "code",
      "execution_count": 19,
      "metadata": {},
      "outputs": [],
      "source": [
        "# Conversor de indice a palabra:\n",
        "idx2word = {v: k for k, v in word2idx.items()}\n",
        "\n",
        "\n",
        "def get_response(input_text):\n",
        "    integer_seq = tokenizer.texts_to_sequences([input_text])[0]\n",
        "    input_seq = pad_sequences([integer_seq], maxlen=max_input_len)\n",
        "\n",
        "    # Se transforma la sequencia de entrada a los stados \"h\" y \"c\" de la LSTM\n",
        "    # para enviar la primera vez al decoder\"\n",
        "    states_value = encoder_model.predict(input_seq)\n",
        "\n",
        "    # Se inicializa la secuencia de entrada al decoder como \"<sos>\"\n",
        "    target_seq = np.zeros((1, 1))\n",
        "    target_seq[0, 0] = word2idx[\"<sos>\"]\n",
        "\n",
        "    # Se obtiene el indice que finaliza la inferencia\n",
        "    eos = word2idx[\"<eos>\"]\n",
        "\n",
        "    output_sentence = []\n",
        "    for _ in range(max_out_len):\n",
        "        # Predicción del próximo elemento\n",
        "        output_tokens, h, c = decoder_model.predict([target_seq] + states_value)\n",
        "        idx = np.argmax(output_tokens[0, 0, :])\n",
        "\n",
        "        # Si es \"end of sentece <eos>\" se acaba\n",
        "        if eos == idx:\n",
        "            break\n",
        "\n",
        "        # Transformar idx a palabra\n",
        "        word = \"\"\n",
        "        if idx > 0:\n",
        "            word = idx2word[idx]\n",
        "            output_sentence.append(word)\n",
        "\n",
        "        # Actualizar los estados dada la ultima prediccion\n",
        "        states_value = [h, c]\n",
        "\n",
        "        # Actualizar secuencia de entrada con la salida (realimentacion)\n",
        "        target_seq[0, 0] = idx\n",
        "\n",
        "    return \" \".join(output_sentence)"
      ]
    },
    {
      "cell_type": "code",
      "execution_count": 20,
      "metadata": {},
      "outputs": [],
      "source": [
        "def chat(input_text):\n",
        "    response = get_response(input_text)\n",
        "\n",
        "    print(\"Input:\", input_text)\n",
        "    print(\"Response:\", response)"
      ]
    },
    {
      "cell_type": "code",
      "execution_count": 21,
      "metadata": {},
      "outputs": [
        {
          "name": "stdout",
          "output_type": "stream",
          "text": [
            "Input: Do you read?\n",
            "Response: i am not sure what you mean\n",
            "\n",
            "\n",
            "Input: Do you have any pet?\n",
            "Response: no\n",
            "\n",
            "\n",
            "Input: Where are you from?\n",
            "Response: i am from the united states\n",
            "\n",
            "\n",
            "Input: How are you?\n",
            "Response: i am doing well how are you\n",
            "\n",
            "\n",
            "Input: What do you like?\n",
            "Response: i like to play video games\n",
            "\n",
            "\n",
            "Input: How do you look like?\n",
            "Response: i am not sure what you mean\n",
            "\n",
            "\n",
            "Input: Do you cook?\n",
            "Response: yes\n",
            "\n",
            "\n"
          ]
        }
      ],
      "source": [
        "questions = [\n",
        "    \"Do you read?\",\n",
        "    \"Do you have any pet?\",\n",
        "    \"Where are you from?\",\n",
        "    \"How are you?\",\n",
        "    \"What do you like?\",\n",
        "    \"How do you look like?\",\n",
        "    \"Do you cook?\",\n",
        "]\n",
        "\n",
        "for question in questions:\n",
        "    chat(question)\n",
        "    print(\"\\n\")"
      ]
    },
    {
      "cell_type": "code",
      "execution_count": 23,
      "metadata": {},
      "outputs": [
        {
          "name": "stdout",
          "output_type": "stream",
          "text": [
            "Input: Hello\n",
            "Response: hello how are you\n",
            "Input: I am fine and you?\n",
            "Response: i am doing well how are you\n",
            "Input: very well. Do you read?\n",
            "Response: i like to play video games\n",
            "Input: Me too! What kind of video games?\n",
            "Response: i do not like it\n",
            "Input: Ok. What do you like?\n",
            "Response: i like to play video games\n",
            "Input: And do you have pets?\n",
            "Response: i do not have any\n",
            "Input: I have to leave now\n",
            "Response: what do you like\n",
            "Input: Bye bye\n",
            "Response: i am not sure what you mean\n"
          ]
        }
      ],
      "source": [
        "import time\n",
        "\n",
        "user_input = None\n",
        "\n",
        "while user_input != \"\":\n",
        "    user_input = input()\n",
        "    if user_input != \"\":\n",
        "        chat(user_input)\n",
        "        time.sleep(1)"
      ]
    },
    {
      "cell_type": "markdown",
      "metadata": {},
      "source": [
        "Podemos concluir en que el bot funciona de manera aceptable para los pocos datos de entrenamiento y la arquitectura simple que se utilizó. \n",
        "\n",
        "Si bien no en todos los casos la respuestas se condicen con las preguntas, al menos es bastante coherente en la forma de escribir y se logra entender lo que está tratando de decir.\n",
        "\n",
        "Probablemente un dataset con mayor cantidad de datos de mejores resultados."
      ]
    }
  ],
  "metadata": {
    "accelerator": "GPU",
    "colab": {
      "collapsed_sections": [],
      "name": "6d - bot_qa.ipynb",
      "provenance": []
    },
    "kernelspec": {
      "display_name": "Python 3 (ipykernel)",
      "language": "python",
      "name": "python3"
    },
    "language_info": {
      "codemirror_mode": {
        "name": "ipython",
        "version": 3
      },
      "file_extension": ".py",
      "mimetype": "text/x-python",
      "name": "python",
      "nbconvert_exporter": "python",
      "pygments_lexer": "ipython3",
      "version": "3.8.10"
    },
    "vscode": {
      "interpreter": {
        "hash": "916dbcbb3f70747c44a77c7bcd40155683ae19c65e1c03b4aa3499c5328201f1"
      }
    }
  },
  "nbformat": 4,
  "nbformat_minor": 0
}
