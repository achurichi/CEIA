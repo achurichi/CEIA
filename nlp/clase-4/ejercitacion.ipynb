{
 "cells": [
  {
   "cell_type": "markdown",
   "metadata": {},
   "source": [
    "<img src=\"../img/banner.png\" width=\"500\" align=\"center\">\n",
    "\n",
    "# Procesamiento de lenguaje natural\n",
    "## Predicción de próxima palabra\n",
    "\n",
    "Preparado por: Alan Churichi\n",
    "\n",
    "En objetivo de este trabajo es desarrollar un modelo de NLP capaz de predecir la proxima palabra dada una secuencia de texto. Utilizaremos un dataset que contiene mas de 25000 canciones de 150 cantantes distintos. El mismo puede encontrarse en el siguiente [link](https://www.kaggle.com/datasets/terminate9298/songs-lyrics)."
   ]
  },
  {
   "cell_type": "code",
   "execution_count": 48,
   "metadata": {},
   "outputs": [
    {
     "name": "stdout",
     "output_type": "stream",
     "text": [
      "The lab_black extension is already loaded. To reload it, use:\n",
      "  %reload_ext lab_black\n"
     ]
    }
   ],
   "source": [
    "%load_ext lab_black\n",
    "\n",
    "from keras.layers import Dense, LSTM, Embedding, Dropout\n",
    "from keras.models import Sequential\n",
    "from keras.preprocessing.sequence import pad_sequences\n",
    "from keras.preprocessing.text import Tokenizer, text_to_word_sequence\n",
    "from keras.utils.np_utils import to_categorical\n",
    "import matplotlib.pyplot as plt\n",
    "import numpy as np\n",
    "import pandas as pd\n",
    "import re\n",
    "import seaborn as sns"
   ]
  },
  {
   "cell_type": "markdown",
   "metadata": {},
   "source": [
    "Cargamos el dataset."
   ]
  },
  {
   "cell_type": "code",
   "execution_count": 2,
   "metadata": {},
   "outputs": [
    {
     "data": {
      "text/html": [
       "<div>\n",
       "<style scoped>\n",
       "    .dataframe tbody tr th:only-of-type {\n",
       "        vertical-align: middle;\n",
       "    }\n",
       "\n",
       "    .dataframe tbody tr th {\n",
       "        vertical-align: top;\n",
       "    }\n",
       "\n",
       "    .dataframe thead th {\n",
       "        text-align: right;\n",
       "    }\n",
       "</style>\n",
       "<table border=\"1\" class=\"dataframe\">\n",
       "  <thead>\n",
       "    <tr style=\"text-align: right;\">\n",
       "      <th></th>\n",
       "      <th>link</th>\n",
       "      <th>artist</th>\n",
       "      <th>song_name</th>\n",
       "      <th>lyrics</th>\n",
       "    </tr>\n",
       "  </thead>\n",
       "  <tbody>\n",
       "    <tr>\n",
       "      <th>0</th>\n",
       "      <td>../lyrics/backstreetboys/climbingthewalls.html</td>\n",
       "      <td>Backstreet Boys Lyrics</td>\n",
       "      <td>Climbing The Walls</td>\n",
       "      <td>\\n\\n[Brian:]\\nClose your eyes, make a wish\\nTh...</td>\n",
       "    </tr>\n",
       "    <tr>\n",
       "      <th>1</th>\n",
       "      <td>../lyrics/westlife/howtobreakaheart.html</td>\n",
       "      <td>Westlife Lyrics</td>\n",
       "      <td>How To Break A Heart</td>\n",
       "      <td>\\n\\r\\nSince you're not worth my love\\nI haven'...</td>\n",
       "    </tr>\n",
       "    <tr>\n",
       "      <th>2</th>\n",
       "      <td>../lyrics/deanmartin/iwill.html</td>\n",
       "      <td>Dean Martin Lyrics</td>\n",
       "      <td>I Will</td>\n",
       "      <td>\\n\\r\\nI don't want to be the one to say I'm go...</td>\n",
       "    </tr>\n",
       "    <tr>\n",
       "      <th>3</th>\n",
       "      <td>../lyrics/deanmartin/tellyourmotherhello.html</td>\n",
       "      <td>Dean Martin Lyrics</td>\n",
       "      <td>Tell Your Mother Hello</td>\n",
       "      <td>\\n\\r\\nSure I loved the dear money that shines ...</td>\n",
       "    </tr>\n",
       "    <tr>\n",
       "      <th>4</th>\n",
       "      <td>../lyrics/deanmartin/behonestwithme.html</td>\n",
       "      <td>Dean Martin Lyrics</td>\n",
       "      <td>Be Honest With Me</td>\n",
       "      <td>\\n\\r\\nBe honest with me dear whatever you do\\n...</td>\n",
       "    </tr>\n",
       "    <tr>\n",
       "      <th>...</th>\n",
       "      <td>...</td>\n",
       "      <td>...</td>\n",
       "      <td>...</td>\n",
       "      <td>...</td>\n",
       "    </tr>\n",
       "    <tr>\n",
       "      <th>25737</th>\n",
       "      <td>../lyrics/jasonmraz/whatmamasay.html</td>\n",
       "      <td>Jason Mraz Lyrics</td>\n",
       "      <td>What Mama Say</td>\n",
       "      <td>\\n\\r\\n(La la da da da da...)\\n\\nWhatever mama ...</td>\n",
       "    </tr>\n",
       "    <tr>\n",
       "      <th>25738</th>\n",
       "      <td>https://www.azlyrics.com/lyrics/gesaffelstein/...</td>\n",
       "      <td>Gesaffelstein Lyrics</td>\n",
       "      <td>Blast Off</td>\n",
       "      <td>\\n\\r\\nYou've been thinking about this all nigh...</td>\n",
       "    </tr>\n",
       "    <tr>\n",
       "      <th>25739</th>\n",
       "      <td>../lyrics/jasonmraz/aworldwithyou.html</td>\n",
       "      <td>Jason Mraz Lyrics</td>\n",
       "      <td>A World With You</td>\n",
       "      <td>\\n\\r\\nLet's hit the road and throw out the map...</td>\n",
       "    </tr>\n",
       "    <tr>\n",
       "      <th>25740</th>\n",
       "      <td>../lyrics/jasonmraz/loveisreal.html</td>\n",
       "      <td>Jason Mraz Lyrics</td>\n",
       "      <td>Love Is Real</td>\n",
       "      <td>\\n\\r\\nLove is real it is not just in novels or...</td>\n",
       "    </tr>\n",
       "    <tr>\n",
       "      <th>25741</th>\n",
       "      <td>../lyrics/jasonmraz/gypsymc.html</td>\n",
       "      <td>Jason Mraz Lyrics</td>\n",
       "      <td>Gypsy MC</td>\n",
       "      <td>\\n\\r\\nI'd like to give a shout out to all the ...</td>\n",
       "    </tr>\n",
       "  </tbody>\n",
       "</table>\n",
       "<p>25742 rows × 4 columns</p>\n",
       "</div>"
      ],
      "text/plain": [
       "                                                    link  \\\n",
       "0         ../lyrics/backstreetboys/climbingthewalls.html   \n",
       "1               ../lyrics/westlife/howtobreakaheart.html   \n",
       "2                        ../lyrics/deanmartin/iwill.html   \n",
       "3          ../lyrics/deanmartin/tellyourmotherhello.html   \n",
       "4               ../lyrics/deanmartin/behonestwithme.html   \n",
       "...                                                  ...   \n",
       "25737               ../lyrics/jasonmraz/whatmamasay.html   \n",
       "25738  https://www.azlyrics.com/lyrics/gesaffelstein/...   \n",
       "25739             ../lyrics/jasonmraz/aworldwithyou.html   \n",
       "25740                ../lyrics/jasonmraz/loveisreal.html   \n",
       "25741                   ../lyrics/jasonmraz/gypsymc.html   \n",
       "\n",
       "                       artist               song_name  \\\n",
       "0      Backstreet Boys Lyrics      Climbing The Walls   \n",
       "1             Westlife Lyrics    How To Break A Heart   \n",
       "2          Dean Martin Lyrics                  I Will   \n",
       "3          Dean Martin Lyrics  Tell Your Mother Hello   \n",
       "4          Dean Martin Lyrics       Be Honest With Me   \n",
       "...                       ...                     ...   \n",
       "25737       Jason Mraz Lyrics           What Mama Say   \n",
       "25738    Gesaffelstein Lyrics               Blast Off   \n",
       "25739       Jason Mraz Lyrics        A World With You   \n",
       "25740       Jason Mraz Lyrics            Love Is Real   \n",
       "25741       Jason Mraz Lyrics                Gypsy MC   \n",
       "\n",
       "                                                  lyrics  \n",
       "0      \\n\\n[Brian:]\\nClose your eyes, make a wish\\nTh...  \n",
       "1      \\n\\r\\nSince you're not worth my love\\nI haven'...  \n",
       "2      \\n\\r\\nI don't want to be the one to say I'm go...  \n",
       "3      \\n\\r\\nSure I loved the dear money that shines ...  \n",
       "4      \\n\\r\\nBe honest with me dear whatever you do\\n...  \n",
       "...                                                  ...  \n",
       "25737  \\n\\r\\n(La la da da da da...)\\n\\nWhatever mama ...  \n",
       "25738  \\n\\r\\nYou've been thinking about this all nigh...  \n",
       "25739  \\n\\r\\nLet's hit the road and throw out the map...  \n",
       "25740  \\n\\r\\nLove is real it is not just in novels or...  \n",
       "25741  \\n\\r\\nI'd like to give a shout out to all the ...  \n",
       "\n",
       "[25742 rows x 4 columns]"
      ]
     },
     "execution_count": 2,
     "metadata": {},
     "output_type": "execute_result"
    }
   ],
   "source": [
    "lyrics_path = \"/tf/notebooks/CEIA/nlp/clase-4/data/lyrics.csv\"\n",
    "\n",
    "df = pd.read_csv(lyrics_path, index_col=0)\n",
    "df"
   ]
  },
  {
   "cell_type": "markdown",
   "metadata": {},
   "source": [
    "En este caso solo nos interesa la columna 'lyrics'. Vemos una muestra de una canción del dataset."
   ]
  },
  {
   "cell_type": "code",
   "execution_count": 3,
   "metadata": {},
   "outputs": [
    {
     "data": {
      "text/plain": [
       "\"\\n\\r\\nTogether again my tears have stopped falling\\nThe long lonely nights are now at an end\\nThe key to my heart you hold in your hand\\nAnd nothing else matters we're together again.\\n\\n(Nothing else matters we're together again.)\\n\\nTogether again the grey skies are gone\\nYou're back in my arms now where you belong\\nThe love that I knew is living again\\nAnd nothing else matters we're together again.\\n\\nAnd nothing else matters we're together again.\\n(Together again...)\\n\""
      ]
     },
     "execution_count": 3,
     "metadata": {},
     "output_type": "execute_result"
    }
   ],
   "source": [
    "df[\"lyrics\"][7]"
   ]
  },
  {
   "cell_type": "markdown",
   "metadata": {},
   "source": [
    "Separando por salto de linea."
   ]
  },
  {
   "cell_type": "code",
   "execution_count": 4,
   "metadata": {},
   "outputs": [
    {
     "data": {
      "text/plain": [
       "['',\n",
       " '\\r',\n",
       " 'Together again my tears have stopped falling',\n",
       " 'The long lonely nights are now at an end',\n",
       " 'The key to my heart you hold in your hand',\n",
       " \"And nothing else matters we're together again.\",\n",
       " '',\n",
       " \"(Nothing else matters we're together again.)\",\n",
       " '',\n",
       " 'Together again the grey skies are gone',\n",
       " \"You're back in my arms now where you belong\",\n",
       " 'The love that I knew is living again',\n",
       " \"And nothing else matters we're together again.\",\n",
       " '',\n",
       " \"And nothing else matters we're together again.\",\n",
       " '(Together again...)',\n",
       " '']"
      ]
     },
     "execution_count": 4,
     "metadata": {},
     "output_type": "execute_result"
    }
   ],
   "source": [
    "df[\"lyrics\"][7].split(\"\\n\")"
   ]
  },
  {
   "cell_type": "markdown",
   "metadata": {},
   "source": [
    "Vemos que hay lineas vacias o solo tienen caracteres no imprimibles como \\r. Creamos una expresion regular para eliminarlos."
   ]
  },
  {
   "cell_type": "code",
   "execution_count": 5,
   "metadata": {},
   "outputs": [
    {
     "data": {
      "text/plain": [
       "['Together again my tears have stopped falling',\n",
       " 'The long lonely nights are now at an end',\n",
       " 'The key to my heart you hold in your hand',\n",
       " \"And nothing else matters we're together again.\",\n",
       " 'Together again the grey skies are gone',\n",
       " \"You're back in my arms now where you belong\",\n",
       " 'The love that I knew is living again',\n",
       " \"And nothing else matters we're together again.\",\n",
       " \"And nothing else matters we're together again\"]"
      ]
     },
     "execution_count": 5,
     "metadata": {},
     "output_type": "execute_result"
    }
   ],
   "source": [
    "# Remover texto entre () o []\n",
    "lyrics = [re.sub(r\"[\\(\\[].*?[\\)\\]]\", \"\", line) for line in df[\"lyrics\"]]\n",
    "# Remover los caracteres especiales del cominezo y final\n",
    "lyrics = [re.sub(r\"^\\W+|\\W+$\", \"\", line) for line in lyrics]\n",
    "# Remover los \\n duplicados para evitar tener lineas vacias y separar por estrofas\n",
    "lyrics = [re.sub(r\"\\n+\", \"\\n\", line).split(\"\\n\") for line in lyrics]\n",
    "\n",
    "lyrics[7]"
   ]
  },
  {
   "cell_type": "markdown",
   "metadata": {},
   "source": [
    "Concatenamos todas las estrofas en un solo vector."
   ]
  },
  {
   "cell_type": "code",
   "execution_count": 6,
   "metadata": {},
   "outputs": [
    {
     "name": "stdout",
     "output_type": "stream",
     "text": [
      "Cantidad de estrofas: 1112852\n"
     ]
    },
    {
     "data": {
      "text/plain": [
       "['Close your eyes, make a wish',\n",
       " 'That this could last forever',\n",
       " 'If only you could stay with me now']"
      ]
     },
     "execution_count": 6,
     "metadata": {},
     "output_type": "execute_result"
    }
   ],
   "source": [
    "lyrics = [line for lines in lyrics for line in lines]\n",
    "print(f\"Cantidad de estrofas: {len(lyrics)}\")\n",
    "lyrics[:3]"
   ]
  },
  {
   "cell_type": "markdown",
   "metadata": {},
   "source": [
    "Tokenizamos cada linea."
   ]
  },
  {
   "cell_type": "code",
   "execution_count": 7,
   "metadata": {},
   "outputs": [
    {
     "data": {
      "text/plain": [
       "[['close', 'your', 'eyes', 'make', 'a', 'wish'],\n",
       " ['that', 'this', 'could', 'last', 'forever'],\n",
       " ['if', 'only', 'you', 'could', 'stay', 'with', 'me', 'now']]"
      ]
     },
     "execution_count": 7,
     "metadata": {},
     "output_type": "execute_result"
    }
   ],
   "source": [
    "lyrics_word_tokens = [text_to_word_sequence(line) for line in lyrics]\n",
    "lyrics_word_tokens[:3]"
   ]
  },
  {
   "cell_type": "markdown",
   "metadata": {},
   "source": [
    "Hacemos slices para tener vecotres de 4 tokens, 3 para entrada del modelo y 1 para usar como target."
   ]
  },
  {
   "cell_type": "code",
   "execution_count": 8,
   "metadata": {},
   "outputs": [
    {
     "name": "stdout",
     "output_type": "stream",
     "text": [
      "Cantidad de secuencias: 4232738\n"
     ]
    },
    {
     "data": {
      "text/plain": [
       "[['close', 'your', 'eyes', 'make'],\n",
       " ['your', 'eyes', 'make', 'a'],\n",
       " ['eyes', 'make', 'a', 'wish'],\n",
       " ['that', 'this', 'could', 'last'],\n",
       " ['this', 'could', 'last', 'forever'],\n",
       " ['if', 'only', 'you', 'could'],\n",
       " ['only', 'you', 'could', 'stay'],\n",
       " ['you', 'could', 'stay', 'with'],\n",
       " ['could', 'stay', 'with', 'me'],\n",
       " ['stay', 'with', 'me', 'now']]"
      ]
     },
     "execution_count": 8,
     "metadata": {},
     "output_type": "execute_result"
    }
   ],
   "source": [
    "TRAIN_LEN = 4\n",
    "\n",
    "text_sequences = []\n",
    "\n",
    "for line in lyrics_word_tokens:\n",
    "    if len(line) >= TRAIN_LEN:\n",
    "        for i in range(TRAIN_LEN, len(line) + 1):\n",
    "            seq = line[i - TRAIN_LEN : i]\n",
    "            text_sequences.append(seq)\n",
    "\n",
    "print(f\"Cantidad de secuencias: {len(text_sequences)}\")\n",
    "text_sequences[:10]"
   ]
  },
  {
   "cell_type": "markdown",
   "metadata": {},
   "source": [
    "Convertimos los tokens de palabras a valores numéricos."
   ]
  },
  {
   "cell_type": "code",
   "execution_count": 51,
   "metadata": {},
   "outputs": [
    {
     "name": "stdout",
     "output_type": "stream",
     "text": [
      "Palabras en el vocabulario: 79043\n"
     ]
    },
    {
     "data": {
      "text/plain": [
       "array([[270,  15, 164,  48],\n",
       "       [ 15, 164,  48,   5],\n",
       "       [164,  48,   5, 238],\n",
       "       [ 11,  34,  82, 209],\n",
       "       [ 34,  82, 209, 374],\n",
       "       [ 42, 100,   3,  82],\n",
       "       [100,   3,  82, 179],\n",
       "       [  3,  82, 179,  22],\n",
       "       [ 82, 179,  22,   7],\n",
       "       [179,  22,   7,  50]])"
      ]
     },
     "execution_count": 51,
     "metadata": {},
     "output_type": "execute_result"
    }
   ],
   "source": [
    "tok = Tokenizer()\n",
    "tok.fit_on_texts(text_sequences)\n",
    "\n",
    "vocab_size = len(tok.word_counts)\n",
    "print(f\"Palabras en el vocabulario: {vocab_size}\")\n",
    "\n",
    "sequences = np.array(tok.texts_to_sequences(text_sequences))\n",
    "sequences[:10]"
   ]
  },
  {
   "cell_type": "markdown",
   "metadata": {},
   "source": [
    "Tomamos los primeros 3 valores de cada muestra como entrada y el último valor como resultado."
   ]
  },
  {
   "cell_type": "code",
   "execution_count": 10,
   "metadata": {},
   "outputs": [
    {
     "name": "stdout",
     "output_type": "stream",
     "text": [
      "Input:\n",
      "[[270  15 164]\n",
      " [ 15 164  48]\n",
      " [164  48   5]\n",
      " [ 11  34  82]\n",
      " [ 34  82 209]]\n",
      "\n",
      "Target:\n",
      "[ 48   5 238 209 374]\n"
     ]
    }
   ],
   "source": [
    "X_data = sequences[:, :-1]\n",
    "y_data = sequences[:, -1]\n",
    "\n",
    "print(f\"Input:\\n{X_data[:5]}\")\n",
    "print(f\"\\nTarget:\\n{y_data[:5]}\")"
   ]
  },
  {
   "cell_type": "markdown",
   "metadata": {},
   "source": [
    "Tratamos de hacer One-hot encoding para los datos de target."
   ]
  },
  {
   "cell_type": "code",
   "execution_count": 52,
   "metadata": {},
   "outputs": [
    {
     "ename": "MemoryError",
     "evalue": "Unable to allocate 1.22 TiB for an array with shape (4232738, 79043) and data type float32",
     "output_type": "error",
     "traceback": [
      "\u001b[0;31m---------------------------------------------------------------------------\u001b[0m",
      "\u001b[0;31mMemoryError\u001b[0m                               Traceback (most recent call last)",
      "\u001b[1;32m/home/alan/repos/tensorflow-gpu-jupyter/notebooks/CEIA/nlp/clase-4/ejercitacion.ipynb Cell 22\u001b[0m in \u001b[0;36m<module>\u001b[0;34m\u001b[0m\n\u001b[0;32m----> <a href='vscode-notebook-cell:/home/alan/repos/tensorflow-gpu-jupyter/notebooks/CEIA/nlp/clase-4/ejercitacion.ipynb#ch0000023?line=0'>1</a>\u001b[0m y_data_sparse \u001b[39m=\u001b[39m to_categorical(y_data, num_classes\u001b[39m=\u001b[39;49mvocab_size)\n",
      "File \u001b[0;32m/usr/local/lib/python3.8/dist-packages/keras/utils/np_utils.py:70\u001b[0m, in \u001b[0;36mto_categorical\u001b[0;34m(y, num_classes, dtype)\u001b[0m\n\u001b[1;32m     68\u001b[0m   num_classes \u001b[39m=\u001b[39m np\u001b[39m.\u001b[39mmax(y) \u001b[39m+\u001b[39m \u001b[39m1\u001b[39m\n\u001b[1;32m     69\u001b[0m n \u001b[39m=\u001b[39m y\u001b[39m.\u001b[39mshape[\u001b[39m0\u001b[39m]\n\u001b[0;32m---> 70\u001b[0m categorical \u001b[39m=\u001b[39m np\u001b[39m.\u001b[39;49mzeros((n, num_classes), dtype\u001b[39m=\u001b[39;49mdtype)\n\u001b[1;32m     71\u001b[0m categorical[np\u001b[39m.\u001b[39marange(n), y] \u001b[39m=\u001b[39m \u001b[39m1\u001b[39m\n\u001b[1;32m     72\u001b[0m output_shape \u001b[39m=\u001b[39m input_shape \u001b[39m+\u001b[39m (num_classes,)\n",
      "\u001b[0;31mMemoryError\u001b[0m: Unable to allocate 1.22 TiB for an array with shape (4232738, 79043) and data type float32"
     ]
    }
   ],
   "source": [
    "y_data_sparse = to_categorical(y_data, num_classes=vocab_size)"
   ]
  },
  {
   "cell_type": "markdown",
   "metadata": {},
   "source": [
    "Si tratamos de convertir el vector target a una matriz de one-hot vemos que el tamaño de la misma es de (4232738, 79043). Esto requeriría una gran cantidad de memoria y sería poco práctico ya que la mayoría de valores serían 0 y no apotrarían información.\n",
    "Para poder utilizar el vector target con los valores tokenizados como salida deberemos utilizar *sparse_categorical_crossentropy* como función de loss.\n",
    "\n",
    "Definimos un modelo simple con layers LSTM."
   ]
  },
  {
   "cell_type": "code",
   "execution_count": 14,
   "metadata": {},
   "outputs": [
    {
     "name": "stderr",
     "output_type": "stream",
     "text": [
      "2022-07-25 01:41:26.745740: I tensorflow/stream_executor/cuda/cuda_gpu_executor.cc:936] successful NUMA node read from SysFS had negative value (-1), but there must be at least one NUMA node, so returning NUMA node zero\n",
      "2022-07-25 01:41:26.763436: I tensorflow/stream_executor/cuda/cuda_gpu_executor.cc:936] successful NUMA node read from SysFS had negative value (-1), but there must be at least one NUMA node, so returning NUMA node zero\n",
      "2022-07-25 01:41:26.763844: I tensorflow/stream_executor/cuda/cuda_gpu_executor.cc:936] successful NUMA node read from SysFS had negative value (-1), but there must be at least one NUMA node, so returning NUMA node zero\n",
      "2022-07-25 01:41:26.765063: I tensorflow/core/platform/cpu_feature_guard.cc:151] This TensorFlow binary is optimized with oneAPI Deep Neural Network Library (oneDNN) to use the following CPU instructions in performance-critical operations:  AVX2 FMA\n",
      "To enable them in other operations, rebuild TensorFlow with the appropriate compiler flags.\n",
      "2022-07-25 01:41:26.765819: I tensorflow/stream_executor/cuda/cuda_gpu_executor.cc:936] successful NUMA node read from SysFS had negative value (-1), but there must be at least one NUMA node, so returning NUMA node zero\n",
      "2022-07-25 01:41:26.766188: I tensorflow/stream_executor/cuda/cuda_gpu_executor.cc:936] successful NUMA node read from SysFS had negative value (-1), but there must be at least one NUMA node, so returning NUMA node zero\n",
      "2022-07-25 01:41:26.766474: I tensorflow/stream_executor/cuda/cuda_gpu_executor.cc:936] successful NUMA node read from SysFS had negative value (-1), but there must be at least one NUMA node, so returning NUMA node zero\n",
      "2022-07-25 01:41:27.196082: I tensorflow/stream_executor/cuda/cuda_gpu_executor.cc:936] successful NUMA node read from SysFS had negative value (-1), but there must be at least one NUMA node, so returning NUMA node zero\n",
      "2022-07-25 01:41:27.196257: I tensorflow/stream_executor/cuda/cuda_gpu_executor.cc:936] successful NUMA node read from SysFS had negative value (-1), but there must be at least one NUMA node, so returning NUMA node zero\n",
      "2022-07-25 01:41:27.196388: I tensorflow/stream_executor/cuda/cuda_gpu_executor.cc:936] successful NUMA node read from SysFS had negative value (-1), but there must be at least one NUMA node, so returning NUMA node zero\n",
      "2022-07-25 01:41:27.196490: I tensorflow/core/common_runtime/gpu/gpu_device.cc:1525] Created device /job:localhost/replica:0/task:0/device:GPU:0 with 10062 MB memory:  -> device: 0, name: NVIDIA GeForce GTX 1080 Ti, pci bus id: 0000:01:00.0, compute capability: 6.1\n"
     ]
    },
    {
     "name": "stdout",
     "output_type": "stream",
     "text": [
      "Model: \"sequential\"\n",
      "_________________________________________________________________\n",
      " Layer (type)                Output Shape              Param #   \n",
      "=================================================================\n",
      " embedding (Embedding)       (None, 3, 5)              395220    \n",
      "                                                                 \n",
      " lstm (LSTM)                 (None, 3, 64)             17920     \n",
      "                                                                 \n",
      " dropout (Dropout)           (None, 3, 64)             0         \n",
      "                                                                 \n",
      " lstm_1 (LSTM)               (None, 64)                33024     \n",
      "                                                                 \n",
      " dense (Dense)               (None, 32)                2080      \n",
      "                                                                 \n",
      " dense_1 (Dense)             (None, 79043)             2608419   \n",
      "                                                                 \n",
      "=================================================================\n",
      "Total params: 3,056,663\n",
      "Trainable params: 3,056,663\n",
      "Non-trainable params: 0\n",
      "_________________________________________________________________\n"
     ]
    }
   ],
   "source": [
    "input_seq_len = X_data.shape[1] # 3\n",
    "\n",
    "model = Sequential()\n",
    "model.add(Embedding(input_dim=vocab_size + 1, output_dim=5, input_length=input_seq_len))\n",
    "model.add(LSTM(64, return_sequences=True))\n",
    "model.add(Dropout(0.2))\n",
    "model.add(LSTM(64))\n",
    "model.add(Dense(32, activation=\"relu\"))\n",
    "model.add(Dense(vocab_size, activation=\"softmax\"))\n",
    "model.compile(\n",
    "    loss=\"sparse_categorical_crossentropy\", optimizer=\"adam\", metrics=[\"accuracy\"]\n",
    ")\n",
    "\n",
    "model.summary()"
   ]
  },
  {
   "cell_type": "markdown",
   "metadata": {},
   "source": [
    "El modelo tiene 3 millones de parámetros entrenables y la cantidad de datos para entrenamiento es de 4 millones. Debido a esto el tiempo que se tarda en entrenar cada epoch será alto y se decidió realizar el entrenamiento solamente durante 15 epochs."
   ]
  },
  {
   "cell_type": "code",
   "execution_count": 15,
   "metadata": {},
   "outputs": [
    {
     "name": "stdout",
     "output_type": "stream",
     "text": [
      "Epoch 1/15\n"
     ]
    },
    {
     "name": "stderr",
     "output_type": "stream",
     "text": [
      "2022-07-25 01:41:30.418029: I tensorflow/stream_executor/cuda/cuda_dnn.cc:368] Loaded cuDNN version 8100\n"
     ]
    },
    {
     "name": "stdout",
     "output_type": "stream",
     "text": [
      "1654/1654 [==============================] - 245s 147ms/step - loss: 6.8571 - accuracy: 0.0374 - val_loss: 6.6450 - val_accuracy: 0.0383\n",
      "Epoch 2/15\n",
      "1654/1654 [==============================] - 242s 146ms/step - loss: 6.1093 - accuracy: 0.0719 - val_loss: 6.2836 - val_accuracy: 0.0746\n",
      "Epoch 3/15\n",
      "1654/1654 [==============================] - 241s 146ms/step - loss: 5.7944 - accuracy: 0.0957 - val_loss: 6.1397 - val_accuracy: 0.0905\n",
      "Epoch 4/15\n",
      "1654/1654 [==============================] - 242s 146ms/step - loss: 5.6155 - accuracy: 0.1099 - val_loss: 6.0739 - val_accuracy: 0.0997\n",
      "Epoch 5/15\n",
      "1654/1654 [==============================] - 241s 146ms/step - loss: 5.4989 - accuracy: 0.1192 - val_loss: 6.0480 - val_accuracy: 0.1072\n",
      "Epoch 6/15\n",
      "1654/1654 [==============================] - 240s 145ms/step - loss: 5.4172 - accuracy: 0.1252 - val_loss: 6.0369 - val_accuracy: 0.1105\n",
      "Epoch 7/15\n",
      "1654/1654 [==============================] - 241s 146ms/step - loss: 5.3549 - accuracy: 0.1289 - val_loss: 6.0434 - val_accuracy: 0.1130\n",
      "Epoch 8/15\n",
      "1654/1654 [==============================] - 240s 145ms/step - loss: 5.3054 - accuracy: 0.1316 - val_loss: 6.0634 - val_accuracy: 0.1137\n",
      "Epoch 9/15\n",
      "1654/1654 [==============================] - 241s 146ms/step - loss: 5.2644 - accuracy: 0.1340 - val_loss: 6.0836 - val_accuracy: 0.1153\n",
      "Epoch 10/15\n",
      "1654/1654 [==============================] - 240s 145ms/step - loss: 5.2306 - accuracy: 0.1361 - val_loss: 6.1069 - val_accuracy: 0.1165\n",
      "Epoch 11/15\n",
      "1654/1654 [==============================] - 241s 146ms/step - loss: 5.2022 - accuracy: 0.1378 - val_loss: 6.1250 - val_accuracy: 0.1170\n",
      "Epoch 12/15\n",
      "1654/1654 [==============================] - 239s 145ms/step - loss: 5.1780 - accuracy: 0.1395 - val_loss: 6.1540 - val_accuracy: 0.1185\n",
      "Epoch 13/15\n",
      "1654/1654 [==============================] - 241s 146ms/step - loss: 5.1569 - accuracy: 0.1408 - val_loss: 6.1783 - val_accuracy: 0.1186\n",
      "Epoch 14/15\n",
      "1654/1654 [==============================] - 240s 145ms/step - loss: 5.1388 - accuracy: 0.1421 - val_loss: 6.2032 - val_accuracy: 0.1193\n",
      "Epoch 15/15\n",
      "1654/1654 [==============================] - 241s 146ms/step - loss: 5.1222 - accuracy: 0.1431 - val_loss: 6.2254 - val_accuracy: 0.1197\n"
     ]
    }
   ],
   "source": [
    "hist = model.fit(X_data, y_data, epochs=15, validation_split=0.2, batch_size=2048)"
   ]
  },
  {
   "cell_type": "markdown",
   "metadata": {},
   "source": [
    "Realizamos una gráfica para ver como varió el accuracy por epoch."
   ]
  },
  {
   "cell_type": "code",
   "execution_count": 54,
   "metadata": {},
   "outputs": [
    {
     "data": {
      "image/png": "[encoded data removed]",
      "text/plain": [
       "<Figure size 864x432 with 1 Axes>"
      ]
     },
     "metadata": {
      "needs_background": "light"
     },
     "output_type": "display_data"
    }
   ],
   "source": [
    "epoch_count = range(1, len(hist.history[\"accuracy\"]) + 1)\n",
    "\n",
    "plt.figure(figsize=(12, 6))\n",
    "sns.lineplot(x=epoch_count, y=hist.history[\"accuracy\"], label=\"train\")\n",
    "sns.lineplot(x=epoch_count, y=hist.history[\"val_accuracy\"], label=\"valid\")\n",
    "plt.xlabel(\"Epoch\")\n",
    "plt.ylabel(\"Accuracy\")\n",
    "plt.show()"
   ]
  },
  {
   "cell_type": "markdown",
   "metadata": {},
   "source": [
    "Definimos una función que haga todo el preprocesamiento necesario y obtenga una predicción dada una sentencia como entrada."
   ]
  },
  {
   "cell_type": "code",
   "execution_count": 17,
   "metadata": {},
   "outputs": [],
   "source": [
    "def predict_next(human_text):\n",
    "    encoded = tok.texts_to_sequences([human_text])[0]\n",
    "    encoded = pad_sequences([encoded], maxlen=3, padding=\"pre\")\n",
    "    y_hat = model.predict(encoded, verbose=0).argmax(axis=-1)\n",
    "    for word, index in tok.word_index.items():\n",
    "        if index == y_hat:\n",
    "            return f\"{human_text} {word}\"\n",
    "    return None"
   ]
  },
  {
   "cell_type": "markdown",
   "metadata": {},
   "source": [
    "Probamos generar la siguiente con algunos ejemplos."
   ]
  },
  {
   "cell_type": "code",
   "execution_count": 33,
   "metadata": {},
   "outputs": [
    {
     "data": {
      "text/plain": [
       "'This is an example of the night'"
      ]
     },
     "execution_count": 33,
     "metadata": {},
     "output_type": "execute_result"
    }
   ],
   "source": [
    "predict_next(\"This is an example of the\")"
   ]
  },
  {
   "cell_type": "code",
   "execution_count": 40,
   "metadata": {},
   "outputs": [
    {
     "data": {
      "text/plain": [
       "'I would like to be a big man'"
      ]
     },
     "execution_count": 40,
     "metadata": {},
     "output_type": "execute_result"
    }
   ],
   "source": [
    "predict_next(\"I would like to be a big\")"
   ]
  },
  {
   "cell_type": "code",
   "execution_count": 64,
   "metadata": {},
   "outputs": [
    {
     "data": {
      "text/plain": [
       "'I want to be a little bit of the world that i love you'"
      ]
     },
     "execution_count": 64,
     "metadata": {},
     "output_type": "execute_result"
    }
   ],
   "source": [
    "text = \"I want to be\"\n",
    "for i in range(10):\n",
    "    text = predict_next(text)\n",
    "\n",
    "text"
   ]
  },
  {
   "cell_type": "markdown",
   "metadata": {},
   "source": [
    "Si bien las oraciones obtenidas estan bastante bien formuladas, no tienen mucho sentido. \n",
    "\n",
    "El resultado de accuracy en el entrenamiento fue de 11%. Esto podría parecer un valor bajo, pero predecir la siguiente palabra dada una cadena de texto no es una tarea sencilla ya que en la mayoría de casos hay más de una posible respuesta correcta.\n",
    "Por esto el resultado obtenido no se considera malo.\n",
    "\n",
    "En este caso decidimos utilizar un modelo simple debido a los costos computacionales y tiempo requeridos para entrenar el modelo. Sin embargo, para lograr mejores valores de accuracy, se podrían probar distintas arquitecturas, agregando más redes LSTM, probando distintos valores de dropout, layers densas, etc. También se podría aumentar el número de epochs de entrenamiento."
   ]
  }
 ],
 "metadata": {
  "kernelspec": {
   "display_name": "Python 3 (ipykernel)",
   "language": "python",
   "name": "python3"
  },
  "language_info": {
   "codemirror_mode": {
    "name": "ipython",
    "version": 3
   },
   "file_extension": ".py",
   "mimetype": "text/x-python",
   "name": "python",
   "nbconvert_exporter": "python",
   "pygments_lexer": "ipython3",
   "version": "3.8.10"
  },
  "orig_nbformat": 4,
  "vscode": {
   "interpreter": {
    "hash": "916dbcbb3f70747c44a77c7bcd40155683ae19c65e1c03b4aa3499c5328201f1"
   }
  }
 },
 "nbformat": 4,
 "nbformat_minor": 2
}
