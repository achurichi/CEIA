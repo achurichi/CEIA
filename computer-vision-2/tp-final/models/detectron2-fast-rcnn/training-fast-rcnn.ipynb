{
  "cells": [
    {
      "cell_type": "code",
      "execution_count": null,
      "metadata": {},
      "outputs": [],
      "source": [
        "# !pip install torch==1.10.2+cu113 torchvision==0.11.3+cu113 -f https://download.pytorch.org/whl/torch_stable.html\n",
        "# !pip install detectron2==0.6 -f https://dl.fbaipublicfiles.com/detectron2/wheels/cu113/torch1.10/index.html\n",
        "# !pip install setuptools==59.5.0"
      ]
    },
    {
      "cell_type": "code",
      "execution_count": null,
      "metadata": {},
      "outputs": [],
      "source": [
        "import detectron2\n",
        "import detectron2.data.transforms as T\n",
        "from detectron2 import model_zoo\n",
        "from detectron2.config import get_cfg\n",
        "from detectron2.data import DatasetMapper, MetadataCatalog, build_detection_train_loader, build_detection_test_loader\n",
        "from detectron2.data.catalog import DatasetCatalog\n",
        "from detectron2.data.datasets import register_coco_instances\n",
        "from detectron2.engine import DefaultPredictor, DefaultTrainer\n",
        "from detectron2.evaluation import COCOEvaluator, inference_on_dataset\n",
        "from detectron2.utils.logger import setup_logger\n",
        "\n",
        "setup_logger()\n",
        "\n",
        "import numpy as np\n",
        "import os\n",
        "import random\n",
        "import torch, torchvision"
      ]
    },
    {
      "cell_type": "code",
      "execution_count": null,
      "metadata": {},
      "outputs": [],
      "source": [
        "DETECTRON_2_BASE_PATH = \"/tf/datasets/final-dataset/detectron2-dataset\"\n",
        "\n",
        "DETECTRON_2_DATASET_PATHS = {\n",
        "    \"train\": os.path.join(DETECTRON_2_BASE_PATH, \"train\"),\n",
        "    \"val\": os.path.join(DETECTRON_2_BASE_PATH, \"val\"),\n",
        "    \"test\": os.path.join(DETECTRON_2_BASE_PATH, \"test\"),\n",
        "}\n",
        "\n",
        "for subset in DETECTRON_2_DATASET_PATHS.keys():\n",
        "    register_coco_instances(\n",
        "        name=f\"custom_dataset_{subset}\",\n",
        "        metadata={},\n",
        "        json_file=os.path.join(\n",
        "            DETECTRON_2_DATASET_PATHS[subset], \"_annotations.coco.json\"\n",
        "        ),\n",
        "        image_root=DETECTRON_2_DATASET_PATHS[subset],\n",
        "    )"
      ]
    },
    {
      "cell_type": "code",
      "execution_count": null,
      "metadata": {},
      "outputs": [],
      "source": [
        "class CocoTrainer(DefaultTrainer):\n",
        "    @classmethod\n",
        "    def build_train_loader(cls, cfg):\n",
        "        mapper = DatasetMapper(\n",
        "            cfg,\n",
        "            is_train=True,\n",
        "            augmentations=[\n",
        "                T.Resize((400, 400)),\n",
        "                T.RandomFlip(prob=0.5, horizontal=False, vertical=True),\n",
        "                T.RandomSaturation(intensity_min=0.8, intensity_max=1.2),\n",
        "                T.RandomBrightness(intensity_min=0.8, intensity_max=1.2),\n",
        "                T.RandomContrast(intensity_min=0.8, intensity_max=1.2),\n",
        "            ],\n",
        "        )\n",
        "        return build_detection_train_loader(cfg, mapper=mapper)\n",
        "\n",
        "    @classmethod\n",
        "    def build_test_loader(cls, cfg, name=\"test\"):\n",
        "        mapper = DatasetMapper(\n",
        "            cfg,\n",
        "            is_train=False,\n",
        "            augmentations=[T.Resize((400, 400))],\n",
        "        )\n",
        "        return build_detection_test_loader(cfg, name, mapper=mapper)\n",
        "\n",
        "    @classmethod\n",
        "    def build_evaluator(cls, cfg, dataset_name, output_folder=None):\n",
        "        if not output_folder:\n",
        "            output_folder = os.path.join(cfg.OUTPUT_DIR, \"validation\")\n",
        "\n",
        "        return COCOEvaluator(dataset_name, (\"bbox\",), False, output_folder)"
      ]
    },
    {
      "cell_type": "markdown",
      "metadata": {},
      "source": [
        "Train"
      ]
    },
    {
      "cell_type": "code",
      "execution_count": null,
      "metadata": {},
      "outputs": [],
      "source": [
        "RUNS_PATH = \"/tf/notebooks/CEIA/computer-vision-2/tp-final/runs\"\n",
        "TRAIN_PROJECT_PATH = os.path.join(RUNS_PATH, \"train\")\n",
        "\n",
        "experiment = 'detectron2-rcnn-10000-epochs-no-lr-steps'\n",
        "experimentPath =  os.path.join(TRAIN_PROJECT_PATH, experiment)\n",
        "\n",
        "CONFIG_FILE = \"COCO-Detection/faster_rcnn_R_101_FPN_3x.yaml\"\n",
        "\n",
        "cfg = get_cfg()\n",
        "cfg.merge_from_file(model_zoo.get_config_file(CONFIG_FILE))\n",
        "cfg.DATASETS.TRAIN = (\"custom_dataset_train\",)\n",
        "cfg.DATASETS.TEST = (\"custom_dataset_val\",)\n",
        "cfg.OUTPUT_DIR = experimentPath\n",
        "\n",
        "cfg.DATALOADER.NUM_WORKERS = 4\n",
        "cfg.MODEL.WEIGHTS = model_zoo.get_checkpoint_url(CONFIG_FILE)\n",
        "cfg.SOLVER.IMS_PER_BATCH = 16\n",
        "cfg.SOLVER.BASE_LR = 0.001\n",
        "\n",
        "cfg.SOLVER.MAX_ITER = 5000\n",
        "# cfg.SOLVER.STEPS = (3000,)\n",
        "# cfg.SOLVER.GAMMA = 0.05\n",
        "\n",
        "cfg.MODEL.ROI_HEADS.BATCH_SIZE_PER_IMAGE = 512\n",
        "cfg.MODEL.ROI_HEADS.NUM_CLASSES = 1\n",
        "\n",
        "cfg.TEST.EVAL_PERIOD = 500\n",
        "\n",
        "os.makedirs(cfg.OUTPUT_DIR, exist_ok=True)\n"
      ]
    },
    {
      "cell_type": "code",
      "execution_count": null,
      "metadata": {},
      "outputs": [],
      "source": [
        "torch.cuda.empty_cache() \n",
        "\n",
        "trainer = CocoTrainer(cfg)\n",
        "trainer.resume_or_load(resume=False)\n",
        "trainer.train()"
      ]
    },
    {
      "cell_type": "code",
      "execution_count": null,
      "metadata": {},
      "outputs": [],
      "source": [
        "# run tensorboard\n",
        "# !tensorboard --logdir=/tf/notebooks/CEIA/computer-vision-2/tp-final/runs/train --host 0.0.0.0"
      ]
    },
    {
      "cell_type": "markdown",
      "metadata": {},
      "source": [
        "Test"
      ]
    },
    {
      "cell_type": "code",
      "execution_count": null,
      "metadata": {},
      "outputs": [],
      "source": [
        "trainer = CocoTrainer(cfg)\n",
        "trainer.resume_or_load()\n",
        "\n",
        "cfg.MODEL.ROI_HEADS.SCORE_THRESH_TEST = 0.85\n",
        "predictor = DefaultPredictor(cfg)\n",
        "evaluator = COCOEvaluator(\"custom_dataset_test\", (\"bbox\",), False, output_dir=os.path.join(cfg.OUTPUT_DIR, \"test\"))\n",
        "mapper = DatasetMapper(cfg, is_train=False, augmentations=[T.Resize((400, 400))])\n",
        "test_loader = build_detection_test_loader(cfg, \"custom_dataset_test\", mapper=mapper)\n",
        "inference_on_dataset(trainer.model, test_loader, evaluator) "
      ]
    }
  ],
  "metadata": {
    "accelerator": "GPU",
    "colab": {
      "collapsed_sections": [],
      "provenance": []
    },
    "kernelspec": {
      "display_name": "Python 3 (ipykernel)",
      "language": "python",
      "name": "python3"
    },
    "language_info": {
      "codemirror_mode": {
        "name": "ipython",
        "version": 3
      },
      "file_extension": ".py",
      "mimetype": "text/x-python",
      "name": "python",
      "nbconvert_exporter": "python",
      "pygments_lexer": "ipython3",
      "version": "3.8.10"
    }
  },
  "nbformat": 4,
  "nbformat_minor": 0
}
