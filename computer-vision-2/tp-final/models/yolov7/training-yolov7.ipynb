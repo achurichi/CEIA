{
  "cells": [
    {
      "cell_type": "markdown",
      "metadata": {},
      "source": [
        "### Entrenamiento del modelo YOLOv7"
      ]
    },
    {
      "cell_type": "code",
      "execution_count": null,
      "metadata": {
        "vscode": {
          "languageId": "python"
        }
      },
      "outputs": [],
      "source": [
        "BASE_PATH = \"/tf/notebooks/CEIA/computer-vision-2/tp-final/models/yolov7\"\n",
        "\n",
        "import os\n",
        "\n",
        "# !pip install -r {os.path.join(BASE_PATH, \"yolov7/requirements.txt\")}\n",
        "# !apt-get update\n",
        "# !apt-get install ffmpeg libsm6 libxext6 -y\n",
        "\n",
        "import torch"
      ]
    },
    {
      "cell_type": "markdown",
      "metadata": {},
      "source": [
        "Descarga del modelo pre-entrenado"
      ]
    },
    {
      "cell_type": "code",
      "execution_count": null,
      "metadata": {
        "id": "bUbmy674bhpD",
        "vscode": {
          "languageId": "python"
        }
      },
      "outputs": [],
      "source": [
        "PRETRAINED_PATH = os.path.join(BASE_PATH, \"yolov7-pretrained\")\n",
        "WEIGHTS_FILE = os.path.join(PRETRAINED_PATH, \"yolov7_training.pt\")\n",
        "\n",
        "if os.access(WEIGHTS_FILE, os.F_OK) is False:\n",
        "    try:\n",
        "        original_umask = os.umask(0)\n",
        "        os.mkdir(PRETRAINED_PATH, mode=0o775)\n",
        "    except FileExistsError:\n",
        "        pass\n",
        "    finally:\n",
        "        os.umask(original_umask)\n",
        "\n",
        "    # download COCO starting checkpoint\n",
        "    !wget https://github.com/WongKinYiu/yolov7/releases/download/v0.1/yolov7_training.pt -P {PRETRAINED_PATH}"
      ]
    },
    {
      "cell_type": "markdown",
      "metadata": {},
      "source": [
        "Definición de datasets y carga de hiperparámetros"
      ]
    },
    {
      "cell_type": "code",
      "execution_count": null,
      "metadata": {
        "vscode": {
          "languageId": "python"
        }
      },
      "outputs": [],
      "source": [
        "RUNS_PATH = \"/tf/notebooks/CEIA/computer-vision-2/tp-final/runs\"\n",
        "TRAIN_PROJECT_PATH = os.path.join(RUNS_PATH, \"train\")\n",
        "TRAIN_SCRIPT = os.path.join(BASE_PATH, \"yolov7/train.py\")\n",
        "DATASET_PATH = \"/tf/datasets/final-dataset/yolov7-dataset\"\n",
        "DATA_YAML = os.path.join(DATASET_PATH, \"data.yaml\")\n",
        "\n",
        "NUM_BATCHES = 2\n",
        "NUM_EPOCHS = 50\n",
        "FREEZE_LAYERS = 50 # backbone\n",
        "IMG_SIZE = 640\n",
        "experiment = \"yolov7-50-epochs-640\""
      ]
    },
    {
      "cell_type": "markdown",
      "metadata": {},
      "source": [
        "Entrenamiento"
      ]
    },
    {
      "cell_type": "code",
      "execution_count": null,
      "metadata": {
        "id": "1iqOPKjr22mL",
        "vscode": {
          "languageId": "python"
        }
      },
      "outputs": [],
      "source": [
        "torch.cuda.empty_cache() \n",
        "\n",
        "!python {TRAIN_SCRIPT} \\\n",
        "--project {TRAIN_PROJECT_PATH} \\\n",
        "--name {experiment} \\\n",
        "--batch {NUM_BATCHES} \\\n",
        "--epochs {NUM_EPOCHS} \\\n",
        "--data {DATA_YAML} \\\n",
        "--img-size {IMG_SIZE} {IMG_SIZE} \\\n",
        "--weights {WEIGHTS_FILE} \\\n",
        "--device 0 \\\n",
        "--freeze {FREEZE_LAYERS}"
      ]
    },
    {
      "cell_type": "code",
      "execution_count": null,
      "metadata": {
        "vscode": {
          "languageId": "python"
        }
      },
      "outputs": [],
      "source": [
        "# run tensorboard\n",
        "# !tensorboard --logdir=/tf/notebooks/CEIA/computer-vision-2/tp-final/runs/train --host 0.0.0.0"
      ]
    },
    {
      "cell_type": "markdown",
      "metadata": {},
      "source": [
        "Testeo"
      ]
    },
    {
      "cell_type": "code",
      "execution_count": null,
      "metadata": {
        "vscode": {
          "languageId": "python"
        }
      },
      "outputs": [],
      "source": [
        "TEST_PROJECT_PATH = os.path.join(TRAIN_PROJECT_PATH, f\"{experiment}\")\n",
        "TEST_SCRIPT = os.path.join(BASE_PATH, \"yolov7/test.py\")\n",
        "TEST_WEIGHTS = os.path.join(TRAIN_PROJECT_PATH, f\"{experiment}/weights/best.pt\")\n",
        "TEST_DATA_PATH = os.path.join(DATASET_PATH, \"test/images\")\n",
        "TEST_NAME = 'test'\n",
        "\n",
        "CONFIDENCE_THRESHOLD = 0.7\n",
        "\n",
        "!python {TEST_SCRIPT} \\\n",
        " --project {TEST_PROJECT_PATH} \\\n",
        " --name {TEST_NAME} \\\n",
        " --batch {NUM_BATCHES} \\\n",
        " --task test \\\n",
        " --data {DATA_YAML} \\\n",
        " --img-size {IMG_SIZE} \\\n",
        " --weights {TEST_WEIGHTS} \\\n",
        " --conf-thres {CONFIDENCE_THRESHOLD} \\\n",
        " --device 0 \\\n",
        " --verbose"
      ]
    },
    {
      "cell_type": "markdown",
      "metadata": {},
      "source": [
        "Inferencia"
      ]
    },
    {
      "cell_type": "code",
      "execution_count": null,
      "metadata": {
        "vscode": {
          "languageId": "python"
        }
      },
      "outputs": [],
      "source": [
        "DETECT_SCRIPT = os.path.join(BASE_PATH, \"yolov7/detect.py\")\n",
        "DETECT_DATA_PATH = os.path.join(DATASET_PATH, \"test/images\")\n",
        "DETECT_NAME = 'detect'\n",
        "\n",
        "!python {DETECT_SCRIPT} \\\n",
        " --project {TEST_PROJECT_PATH} \\\n",
        " --name {DETECT_NAME} \\\n",
        " --weights {TEST_WEIGHTS} \\\n",
        " --conf-thres {CONFIDENCE_THRESHOLD} \\\n",
        " --source {DETECT_DATA_PATH}"
      ]
    }
  ],
  "metadata": {
    "accelerator": "GPU",
    "colab": {
      "collapsed_sections": [],
      "provenance": []
    },
    "kernelspec": {
      "display_name": "Python 3 (ipykernel)",
      "language": "python",
      "name": "python3"
    }
  },
  "nbformat": 4,
  "nbformat_minor": 0
}
