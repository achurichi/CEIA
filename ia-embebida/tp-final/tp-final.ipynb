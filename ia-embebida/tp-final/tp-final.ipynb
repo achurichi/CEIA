{
 "cells": [
  {
   "cell_type": "markdown",
   "metadata": {},
   "source": [
    "### Trabajo Práctico Final - Inteligencia Artificial Embebida\n",
    "\n",
    "Alan Churichi"
   ]
  },
  {
   "cell_type": "code",
   "execution_count": 1,
   "metadata": {},
   "outputs": [],
   "source": [
    "%load_ext lab_black\n",
    "\n",
    "from scipy import signal\n",
    "from scipy.fft import fft, fftfreq\n",
    "from scipy.io import wavfile\n",
    "from sklearn import tree\n",
    "from sklearn.metrics import balanced_accuracy_score\n",
    "from sklearn.model_selection import train_test_split\n",
    "from sklearn.tree import DecisionTreeClassifier, export_text\n",
    "import collections\n",
    "import matplotlib.pyplot as plt\n",
    "import numpy as np\n",
    "import os\n",
    "import pandas as pd\n",
    "import serial\n",
    "import sys"
   ]
  },
  {
   "cell_type": "markdown",
   "metadata": {},
   "source": [
    "Lo primero que se hace es descargar el dataset."
   ]
  },
  {
   "cell_type": "code",
   "execution_count": 2,
   "metadata": {},
   "outputs": [
    {
     "name": "stdout",
     "output_type": "stream",
     "text": [
      "File ‘/tf/notebooks/CEIA/ia-embebida/tp-final/dataset-audio/audio/data.zip’ already there; not retrieving.\n",
      "\n",
      "File ‘/tf/notebooks/CEIA/ia-embebida/tp-final/dataset-audio/train_labels.csv’ already there; not retrieving.\n",
      "\n",
      "Archive:  /tf/notebooks/CEIA/ia-embebida/tp-final/dataset-audio/audio/data.zip\n"
     ]
    }
   ],
   "source": [
    "BASE_PATH = os.path.join(\"/tf/notebooks/CEIA/ia-embebida/tp-final\")\n",
    "DATASET_PATH = os.path.join(BASE_PATH, \"dataset-audio\")\n",
    "AUDIO_PATH = os.path.join(DATASET_PATH, \"audio\")\n",
    "\n",
    "!wget --no-clobber https://www.dropbox.com/s/d12x5vknrk9yek1/data.zip -P {AUDIO_PATH}\n",
    "!wget --no-clobber https://www.dropbox.com/s/z1cwznln0gfpw32/train_labels.csv -P {DATASET_PATH}\n",
    "!unzip -j -n {AUDIO_PATH}/data.zip -d {AUDIO_PATH}"
   ]
  },
  {
   "cell_type": "markdown",
   "metadata": {},
   "source": [
    "Cargamos el dataset, tanto audio como labels."
   ]
  },
  {
   "cell_type": "code",
   "execution_count": 3,
   "metadata": {},
   "outputs": [],
   "source": [
    "ANNOTATIONS_FILE = os.path.join(DATASET_PATH, \"train_labels.csv\")\n",
    "\n",
    "\n",
    "def load_dataset(data_path, annotations_file):\n",
    "    df = pd.read_csv(annotations_file)\n",
    "    data = []\n",
    "    for filename_id in df[\"filename\"]:\n",
    "        filename = f\"{str(filename_id).zfill(4)}.wav\"\n",
    "        audio_file = os.path.join(data_path, filename)\n",
    "        _, audio = wavfile.read(audio_file)\n",
    "        data.append(audio.astype(float))\n",
    "    return data, df[\"label\"].to_numpy()\n",
    "\n",
    "\n",
    "data, labels = load_dataset(AUDIO_PATH, ANNOTATIONS_FILE)"
   ]
  },
  {
   "cell_type": "markdown",
   "metadata": {},
   "source": [
    "Definimos todas las funciones que vamos a utilizar para preprocesar los datos antes de entrenar el modelo."
   ]
  },
  {
   "cell_type": "code",
   "execution_count": 4,
   "metadata": {},
   "outputs": [],
   "source": [
    "# Se escalan los datos int16 a valores flotantes entre -0.5 y 0.5\n",
    "def scale(data):\n",
    "    max_val = 32767\n",
    "    min_val = -32768\n",
    "    return [(event - min_val) / (max_val - min_val) - 0.5 for event in data]\n",
    "\n",
    "\n",
    "# Se calcula el valor absoluto para cada valor en los datos\n",
    "def absolute(data):\n",
    "    return [np.abs(event) for event in data]\n",
    "\n",
    "\n",
    "# Se obtiene la envolvente de la señal aplicando un filtro pasabajos\n",
    "def envelope(data, cutoff_freq, samplerate):\n",
    "    sos_butter = signal.butter(2, cutoff_freq, \"lowpass\", output=\"sos\", fs=samplerate)\n",
    "    return [signal.sosfiltfilt(sos_butter, event, axis=0) for event in data]\n",
    "\n",
    "\n",
    "# Se reduce el muestreo de la señal, nos quedamos con 1 de cada x valores\n",
    "def decimation(data, samplerate, scale):\n",
    "    data_dec = [event[::scale] for event in data]\n",
    "    samplerate_dec = samplerate / scale\n",
    "    return data_dec, samplerate_dec\n",
    "\n",
    "\n",
    "# Se aplica un threshold, luego se calcula el signo de la pendiente de la señal y se genera un vector con la duración\n",
    "def slope_sign(data, threshold):\n",
    "    sign = []\n",
    "    duration = []\n",
    "    events_above_thres = [event >= threshold for event in data]\n",
    "    for event, above_thres in zip(data, events_above_thres):\n",
    "        sign.append(np.sign(np.diff(event, append=0)) * above_thres)\n",
    "        duration.append(np.ones_like(event) * above_thres)\n",
    "    return sign, duration\n",
    "\n",
    "\n",
    "# Dado un vector con la duración de la señal se calcula la duración en segundos\n",
    "def calc_duration(data, samplerate):\n",
    "    return [np.sum(event) / samplerate for event in data]\n",
    "\n",
    "\n",
    "# Se calcula el número de cruces por cero\n",
    "def calc_zero_crossing(data):\n",
    "    return [np.count_nonzero(np.abs(np.diff(event))) for event in data]\n",
    "\n",
    "\n",
    "# Se calcula la amplitud, es decir el valor máximo\n",
    "def calc_amplitude(data):\n",
    "    return [np.max(event) for event in data]\n",
    "\n",
    "\n",
    "# Se calcula la simetría de la señal\n",
    "def calc_ratio(data):\n",
    "    ratio_val = lambda ev, max_pos: np.trapz(ev[:max_pos], axis=0) / np.trapz(\n",
    "        ev, axis=0\n",
    "    )\n",
    "    return [ratio_val(event, np.argmax(event)) for event in data]\n",
    "\n",
    "\n",
    "# Se calcula la desviación estandar de la señal\n",
    "def calc_std(data):\n",
    "    return [np.std(event) for event in data]\n",
    "\n",
    "\n",
    "# Se grafica la señal con los resultados a lo largo de preprocesamiento\n",
    "def plot_example(\n",
    "    data_scaled,\n",
    "    data_envelope,\n",
    "    envelope_slope_sign,\n",
    "    signal_duration,\n",
    "    samplerate,\n",
    "    samplerate_dec,\n",
    "    example,\n",
    "):\n",
    "    sample_event_scaled = data_scaled[example]\n",
    "    event_duration = len(sample_event_scaled) / samplerate\n",
    "    timeline = np.linspace(0, event_duration, num=len(sample_event_scaled))\n",
    "\n",
    "    sample_event_envelope = data_envelope[example]\n",
    "    event_duration_dec = len(sample_event_envelope) / samplerate_dec\n",
    "    timeline_dec = np.linspace(0, event_duration_dec, num=len(sample_event_envelope))\n",
    "\n",
    "    f, axes = plt.subplots(4, sharex=True, figsize=(20, 15))\n",
    "\n",
    "    axes[0].plot(timeline, sample_event_scaled)\n",
    "    axes[0].set_xlim([0, event_duration])\n",
    "    axes[0].set_title(\"Original\")\n",
    "\n",
    "    axes[1].plot(timeline_dec, sample_event_envelope)\n",
    "    axes[1].set_xlim([0, event_duration_dec])\n",
    "    axes[1].set_title(\"Envolvente\")\n",
    "\n",
    "    axes[2].plot(timeline_dec, envelope_slope_sign[example])\n",
    "    axes[2].set_xlim([0, event_duration_dec])\n",
    "    axes[2].set_title(\"Cruces por cero\")\n",
    "\n",
    "    axes[3].plot(timeline_dec, signal_duration[example])\n",
    "    axes[3].set_xlim([0, event_duration_dec])\n",
    "    axes[3].set_title(\"Duracion\")\n",
    "\n",
    "    f.show()"
   ]
  },
  {
   "cell_type": "markdown",
   "metadata": {},
   "source": [
    "El siguiente paso es armar nuestro propio pipeline con las funciones definidas anteriormente para acondicionar los datos."
   ]
  },
  {
   "cell_type": "code",
   "execution_count": 5,
   "metadata": {},
   "outputs": [
    {
     "data": {
      "text/plain": [
       "array([[0.42131519, 6.        , 0.5       , 0.55812695, 0.05447687],\n",
       "       [0.37596372, 5.        , 0.31330587, 0.62925759, 0.03289615],\n",
       "       [0.36326531, 7.        , 0.19709316, 0.57451924, 0.02304588],\n",
       "       ...,\n",
       "       [0.22086168, 3.        , 0.09766537, 0.58668405, 0.01624799],\n",
       "       [0.2031746 , 3.        , 0.08045319, 0.59040862, 0.01315449],\n",
       "       [0.62539683, 8.        , 0.24767681, 0.31811127, 0.03333723]])"
      ]
     },
     "execution_count": 5,
     "metadata": {},
     "output_type": "execute_result"
    },
    {
     "data": {
      "image/png": "[encoded data removed]",
      "text/plain": [
       "<Figure size 1440x1080 with 4 Axes>"
      ]
     },
     "metadata": {
      "needs_background": "light"
     },
     "output_type": "display_data"
    }
   ],
   "source": [
    "def preprocess(data, samplerate, show_example=-1):\n",
    "    data_scaled = scale(data)\n",
    "    data_abs = absolute(data_scaled)\n",
    "    data_envelope = envelope(data_abs, 5, samplerate)  # 5 Hz\n",
    "    data_envelope_dec, samplerate_dec = decimation(data_envelope, samplerate, 10)\n",
    "    envelope_slope_sign, signal_duration = slope_sign(data_envelope_dec, 0.010)\n",
    "\n",
    "    duration = calc_duration(signal_duration, samplerate_dec)\n",
    "    zero_crossing = calc_zero_crossing(envelope_slope_sign)\n",
    "    amplitude = calc_amplitude(data_abs)\n",
    "    ratio = calc_ratio(data_envelope)\n",
    "    std = calc_std(data_scaled)\n",
    "\n",
    "    if show_example >= 0:\n",
    "        plot_example(\n",
    "            data_scaled,\n",
    "            data_envelope_dec,\n",
    "            envelope_slope_sign,\n",
    "            signal_duration,\n",
    "            samplerate,\n",
    "            samplerate_dec,\n",
    "            show_example,\n",
    "        )\n",
    "\n",
    "    return np.array([duration, zero_crossing, amplitude, ratio, std]).transpose()\n",
    "\n",
    "\n",
    "samplerate = 22050\n",
    "X_data = preprocess(data, samplerate, 2)\n",
    "X_data"
   ]
  },
  {
   "cell_type": "markdown",
   "metadata": {},
   "source": [
    "Como la UART del microcontrolador trabaja con datos de 8 bits escalamos los resultados a valores uint8."
   ]
  },
  {
   "cell_type": "code",
   "execution_count": 6,
   "metadata": {},
   "outputs": [],
   "source": [
    "def scale_to_uint8(data):\n",
    "    return (\n",
    "        np.array(\n",
    "            [\n",
    "                data[:, 0] * 256,\n",
    "                data[:, 1],\n",
    "                data[:, 2] * 256,\n",
    "                data[:, 3] * 256,\n",
    "                data[:, 4] * 256,\n",
    "            ]\n",
    "        )\n",
    "        .transpose()\n",
    "        .astype(int)\n",
    "    )\n",
    "\n",
    "\n",
    "X_data = scale_to_uint8(X_data)"
   ]
  },
  {
   "cell_type": "markdown",
   "metadata": {},
   "source": [
    "Utilizamos Sklearn para crear un DecissionTree y entrenarlo con los datos preprocesados."
   ]
  },
  {
   "cell_type": "code",
   "execution_count": 7,
   "metadata": {},
   "outputs": [
    {
     "name": "stdout",
     "output_type": "stream",
     "text": [
      "0.684 balanced accuracy\n",
      "\n",
      "|--- Maximo <= 50.50\n",
      "|   |--- Maximo <= 39.50\n",
      "|   |   |--- Simetria <= 64.50\n",
      "|   |   |   |--- class: 1\n",
      "|   |   |--- Simetria >  64.50\n",
      "|   |   |   |--- class: 1\n",
      "|   |--- Maximo >  39.50\n",
      "|   |   |--- Simetria <= 95.50\n",
      "|   |   |   |--- class: 0\n",
      "|   |   |--- Simetria >  95.50\n",
      "|   |   |   |--- class: 1\n",
      "|--- Maximo >  50.50\n",
      "|   |--- Simetria <= 127.50\n",
      "|   |   |--- Cruces <= 4.50\n",
      "|   |   |   |--- class: 0\n",
      "|   |   |--- Cruces >  4.50\n",
      "|   |   |   |--- class: 2\n",
      "|   |--- Simetria >  127.50\n",
      "|   |   |--- Simetria <= 214.50\n",
      "|   |   |   |--- class: 2\n",
      "|   |   |--- Simetria >  214.50\n",
      "|   |   |   |--- class: 0\n",
      "\n"
     ]
    }
   ],
   "source": [
    "def train_model(\n",
    "    data,\n",
    "    labels,\n",
    "    max_depth,\n",
    "    min_samples_leaf,\n",
    "    test_size,\n",
    "    random_state,\n",
    "    columns=[],\n",
    "    verbose=True,\n",
    "):\n",
    "    # Split en datasets de train y test\n",
    "    X_train, X_test, y_train, y_test = train_test_split(\n",
    "        data, labels, test_size=test_size, random_state=random_state\n",
    "    )\n",
    "\n",
    "    # Se crea y entrena el modelo\n",
    "    model = DecisionTreeClassifier(\n",
    "        max_depth=max_depth, min_samples_leaf=min_samples_leaf\n",
    "    )\n",
    "    model.fit(X_train, y_train)\n",
    "\n",
    "    # Se muestran los resultados del modelo\n",
    "    if verbose:\n",
    "        y_pred = model.predict(X_test)\n",
    "        sc = balanced_accuracy_score(y_test, y_pred)\n",
    "        print(f\"{sc:.3f} balanced accuracy\\n\")\n",
    "\n",
    "        tree_rules = export_text(model, feature_names=columns)\n",
    "        print(tree_rules)\n",
    "\n",
    "    return model\n",
    "\n",
    "\n",
    "columns = [\"Duracion\", \"Cruces\", \"Maximo\", \"Simetria\", \"Desvio\"]\n",
    "max_depth = 3\n",
    "min_samples_leaf = 1\n",
    "test_size = 0.33\n",
    "random_state = 42\n",
    "\n",
    "model = train_model(\n",
    "    X_data, labels, max_depth, min_samples_leaf, test_size, random_state, columns\n",
    ")"
   ]
  },
  {
   "cell_type": "markdown",
   "metadata": {},
   "source": [
    "Con 3 niveles de profundidad, la score es de 0.684\n",
    "\n",
    "Vemos que las columnas de `Duracion` y `Desvio` no intervienen en la clasificación, por lo que podemos removerlos sin afectar la performance."
   ]
  },
  {
   "cell_type": "code",
   "execution_count": 8,
   "metadata": {},
   "outputs": [
    {
     "name": "stdout",
     "output_type": "stream",
     "text": [
      "0.684 balanced accuracy\n",
      "\n",
      "|--- Maximo <= 50.50\n",
      "|   |--- Maximo <= 39.50\n",
      "|   |   |--- Simetria <= 64.50\n",
      "|   |   |   |--- class: 1\n",
      "|   |   |--- Simetria >  64.50\n",
      "|   |   |   |--- class: 1\n",
      "|   |--- Maximo >  39.50\n",
      "|   |   |--- Simetria <= 95.50\n",
      "|   |   |   |--- class: 0\n",
      "|   |   |--- Simetria >  95.50\n",
      "|   |   |   |--- class: 1\n",
      "|--- Maximo >  50.50\n",
      "|   |--- Simetria <= 127.50\n",
      "|   |   |--- Cruces <= 4.50\n",
      "|   |   |   |--- class: 0\n",
      "|   |   |--- Cruces >  4.50\n",
      "|   |   |   |--- class: 2\n",
      "|   |--- Simetria >  127.50\n",
      "|   |   |--- Simetria <= 214.50\n",
      "|   |   |   |--- class: 2\n",
      "|   |   |--- Simetria >  214.50\n",
      "|   |   |   |--- class: 0\n",
      "\n"
     ]
    }
   ],
   "source": [
    "X_data = X_data[:, 1:-1]\n",
    "columns = columns[1:-1]\n",
    "\n",
    "model = train_model(\n",
    "    X_data, labels, max_depth, min_samples_leaf, test_size, random_state, columns\n",
    ")"
   ]
  },
  {
   "cell_type": "markdown",
   "metadata": {},
   "source": [
    "Estas reglas de decisión se implementan en el microcontrolador para luego enviar los datos preprocesados por el puerto serie y hacer la inferencia en el ESP."
   ]
  },
  {
   "cell_type": "code",
   "execution_count": 9,
   "metadata": {},
   "outputs": [],
   "source": [
    "PORT = \"/dev/ttyUSB0\"\n",
    "BAUD_RATE = 115200\n",
    "\n",
    "serial_port = serial.Serial(PORT, BAUD_RATE, timeout=0.25)\n",
    "serial_port.flushInput()\n",
    "\n",
    "predictions_esp = []\n",
    "for event in X_data:\n",
    "    [serial_port.write(int(value).to_bytes(1, \"little\")) for value in event]\n",
    "    byte = serial_port.read(1)\n",
    "    result = int.from_bytes(byte, \"little\")\n",
    "    predictions_esp.append(result)\n",
    "\n",
    "serial_port.close()"
   ]
  },
  {
   "cell_type": "code",
   "execution_count": 10,
   "metadata": {},
   "outputs": [
    {
     "name": "stdout",
     "output_type": "stream",
     "text": [
      "Equal? True\n",
      "Predictions sample: [2, 2, 1, 2, 2, 2, 2, 2, 1, 2, 2, 2, 2, 1, 1]\n",
      "Predictions ESP sample: [2, 2, 1, 2, 2, 2, 2, 2, 1, 2, 2, 2, 2, 1, 1]\n"
     ]
    }
   ],
   "source": [
    "predictions = model.predict(X_data)\n",
    "\n",
    "print(f\"Equal? {np.array_equal(predictions, predictions_esp)}\")\n",
    "print(f\"Predictions sample: {predictions[:15].tolist()}\")\n",
    "print(f\"Predictions ESP sample: {predictions_esp[:15]}\")"
   ]
  },
  {
   "cell_type": "markdown",
   "metadata": {},
   "source": [
    "Conclusiones:\n",
    "\n",
    "- Vemos que los resultados de las predicciones del ESP son iguales que las predicciones en Python, esto indica que el algoritmo se implementó correctamente en el microcontrolador.\n",
    "- Enviar solo 3 valores (de 8 bits) por muestra hace que el algoritmo sea muy rápido. Si se enviara la señal de audio, el tiempo de procesamiento sería en el micro sería mayor, y el cuello de botella probablemente estaría dado por la velocidad de transmisión de la UART.\n",
    "- Se puede seguir añadiendo profundidad al árbol, pero utilizar más niveles no aporta mejores resultados.\n",
    "- Se podría hacer una optimización de hiperparámetros generando conjuntos de datos preprocesados con distintos valores de threshold, decimación, filtrado y entrenar árboles de decisión de distintas profundidades para encontrar la combinación que maximice la accuracy."
   ]
  }
 ],
 "metadata": {
  "kernelspec": {
   "display_name": "Python 3 (ipykernel)",
   "language": "python",
   "name": "python3"
  },
  "language_info": {
   "codemirror_mode": {
    "name": "ipython",
    "version": 3
   },
   "file_extension": ".py",
   "mimetype": "text/x-python",
   "name": "python",
   "nbconvert_exporter": "python",
   "pygments_lexer": "ipython3",
   "version": "3.8.10"
  },
  "orig_nbformat": 4
 },
 "nbformat": 4,
 "nbformat_minor": 2
}
