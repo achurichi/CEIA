{
 "cells": [
  {
   "cell_type": "code",
   "execution_count": 2,
   "metadata": {},
   "outputs": [],
   "source": [
    "import serial\n",
    "import time\n",
    "\n",
    "PORT = \"/dev/ttyUSB0\"\n",
    "BAUD_RATE = 115200\n"
   ]
  },
  {
   "cell_type": "code",
   "execution_count": null,
   "metadata": {},
   "outputs": [],
   "source": [
    "serial_port = serial.Serial(PORT, BAUD_RATE, timeout=0.25)\n",
    "serial_port.flushInput()\n",
    "\n",
    "for i in range(10):\n",
    "    serial_port.write(str.encode(f\"Test {i + 1}\\n\"))\n",
    "    time.sleep(1)\n",
    "\n",
    "serial_port.close()"
   ]
  }
 ],
 "metadata": {
  "kernelspec": {
   "display_name": "Python 3 (ipykernel)",
   "language": "python",
   "name": "python3"
  },
  "language_info": {
   "codemirror_mode": {
    "name": "ipython",
    "version": 3
   },
   "file_extension": ".py",
   "mimetype": "text/x-python",
   "name": "python",
   "nbconvert_exporter": "python",
   "pygments_lexer": "ipython3",
   "version": "3.8.10"
  },
  "orig_nbformat": 4
 },
 "nbformat": 4,
 "nbformat_minor": 2
}
